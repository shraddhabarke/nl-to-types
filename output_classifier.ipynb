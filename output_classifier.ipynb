{
  "nbformat": 4,
  "nbformat_minor": 0,
  "metadata": {
    "colab": {
      "name": "output-classifier",
      "provenance": [],
      "collapsed_sections": []
    },
    "kernelspec": {
      "display_name": "Python 3",
      "name": "python3"
    },
    "widgets": {
      "application/vnd.jupyter.widget-state+json": {
        "19381e0b382c41aea21175ff4bef578f": {
          "model_module": "@jupyter-widgets/controls",
          "model_name": "HBoxModel",
          "model_module_version": "1.5.0",
          "state": {
            "_view_name": "HBoxView",
            "_dom_classes": [],
            "_model_name": "HBoxModel",
            "_view_module": "@jupyter-widgets/controls",
            "_model_module_version": "1.5.0",
            "_view_count": null,
            "_view_module_version": "1.5.0",
            "box_style": "",
            "layout": "IPY_MODEL_3da83b86d15e413caf8d9b1c55d00381",
            "_model_module": "@jupyter-widgets/controls",
            "children": [
              "IPY_MODEL_c16ddb3ae4e944cd8acf78f8e93066ec",
              "IPY_MODEL_1076813f648540f381707f60c2f4b052",
              "IPY_MODEL_7eb84b5087c746a09cda9360cb53360b"
            ]
          }
        },
        "3da83b86d15e413caf8d9b1c55d00381": {
          "model_module": "@jupyter-widgets/base",
          "model_name": "LayoutModel",
          "model_module_version": "1.2.0",
          "state": {
            "_view_name": "LayoutView",
            "grid_template_rows": null,
            "right": null,
            "justify_content": null,
            "_view_module": "@jupyter-widgets/base",
            "overflow": null,
            "_model_module_version": "1.2.0",
            "_view_count": null,
            "flex_flow": null,
            "width": null,
            "min_width": null,
            "border": null,
            "align_items": null,
            "bottom": null,
            "_model_module": "@jupyter-widgets/base",
            "top": null,
            "grid_column": null,
            "overflow_y": null,
            "overflow_x": null,
            "grid_auto_flow": null,
            "grid_area": null,
            "grid_template_columns": null,
            "flex": null,
            "_model_name": "LayoutModel",
            "justify_items": null,
            "grid_row": null,
            "max_height": null,
            "align_content": null,
            "visibility": null,
            "align_self": null,
            "height": null,
            "min_height": null,
            "padding": null,
            "grid_auto_rows": null,
            "grid_gap": null,
            "max_width": null,
            "order": null,
            "_view_module_version": "1.2.0",
            "grid_template_areas": null,
            "object_position": null,
            "object_fit": null,
            "grid_auto_columns": null,
            "margin": null,
            "display": null,
            "left": null
          }
        },
        "c16ddb3ae4e944cd8acf78f8e93066ec": {
          "model_module": "@jupyter-widgets/controls",
          "model_name": "HTMLModel",
          "model_module_version": "1.5.0",
          "state": {
            "_view_name": "HTMLView",
            "style": "IPY_MODEL_d26f489d82a44d16a5793c0204d1bd3c",
            "_dom_classes": [],
            "description": "",
            "_model_name": "HTMLModel",
            "placeholder": "​",
            "_view_module": "@jupyter-widgets/controls",
            "_model_module_version": "1.5.0",
            "value": "",
            "_view_count": null,
            "_view_module_version": "1.5.0",
            "description_tooltip": null,
            "_model_module": "@jupyter-widgets/controls",
            "layout": "IPY_MODEL_3be18ad25cfa4a11aae8e4ec4f0d1f3d"
          }
        },
        "1076813f648540f381707f60c2f4b052": {
          "model_module": "@jupyter-widgets/controls",
          "model_name": "FloatProgressModel",
          "model_module_version": "1.5.0",
          "state": {
            "_view_name": "ProgressView",
            "style": "IPY_MODEL_53c9e45131b54f30ae95deafd3a7fc8b",
            "_dom_classes": [],
            "description": "",
            "_model_name": "FloatProgressModel",
            "bar_style": "info",
            "max": 1,
            "_view_module": "@jupyter-widgets/controls",
            "_model_module_version": "1.5.0",
            "value": 1,
            "_view_count": null,
            "_view_module_version": "1.5.0",
            "orientation": "horizontal",
            "min": 0,
            "description_tooltip": null,
            "_model_module": "@jupyter-widgets/controls",
            "layout": "IPY_MODEL_5ba375701bb14e65aeff53dc92b7d44b"
          }
        },
        "7eb84b5087c746a09cda9360cb53360b": {
          "model_module": "@jupyter-widgets/controls",
          "model_name": "HTMLModel",
          "model_module_version": "1.5.0",
          "state": {
            "_view_name": "HTMLView",
            "style": "IPY_MODEL_8fd4c8fce0ad4bda8b853e8afb8fa5cb",
            "_dom_classes": [],
            "description": "",
            "_model_name": "HTMLModel",
            "placeholder": "​",
            "_view_module": "@jupyter-widgets/controls",
            "_model_module_version": "1.5.0",
            "value": " 0/? [00:00&lt;?, ? tables/s]",
            "_view_count": null,
            "_view_module_version": "1.5.0",
            "description_tooltip": null,
            "_model_module": "@jupyter-widgets/controls",
            "layout": "IPY_MODEL_aa9b6a31505049cbb9e84f16234527d0"
          }
        },
        "d26f489d82a44d16a5793c0204d1bd3c": {
          "model_module": "@jupyter-widgets/controls",
          "model_name": "DescriptionStyleModel",
          "model_module_version": "1.5.0",
          "state": {
            "_view_name": "StyleView",
            "_model_name": "DescriptionStyleModel",
            "description_width": "",
            "_view_module": "@jupyter-widgets/base",
            "_model_module_version": "1.5.0",
            "_view_count": null,
            "_view_module_version": "1.2.0",
            "_model_module": "@jupyter-widgets/controls"
          }
        },
        "3be18ad25cfa4a11aae8e4ec4f0d1f3d": {
          "model_module": "@jupyter-widgets/base",
          "model_name": "LayoutModel",
          "model_module_version": "1.2.0",
          "state": {
            "_view_name": "LayoutView",
            "grid_template_rows": null,
            "right": null,
            "justify_content": null,
            "_view_module": "@jupyter-widgets/base",
            "overflow": null,
            "_model_module_version": "1.2.0",
            "_view_count": null,
            "flex_flow": null,
            "width": null,
            "min_width": null,
            "border": null,
            "align_items": null,
            "bottom": null,
            "_model_module": "@jupyter-widgets/base",
            "top": null,
            "grid_column": null,
            "overflow_y": null,
            "overflow_x": null,
            "grid_auto_flow": null,
            "grid_area": null,
            "grid_template_columns": null,
            "flex": null,
            "_model_name": "LayoutModel",
            "justify_items": null,
            "grid_row": null,
            "max_height": null,
            "align_content": null,
            "visibility": null,
            "align_self": null,
            "height": null,
            "min_height": null,
            "padding": null,
            "grid_auto_rows": null,
            "grid_gap": null,
            "max_width": null,
            "order": null,
            "_view_module_version": "1.2.0",
            "grid_template_areas": null,
            "object_position": null,
            "object_fit": null,
            "grid_auto_columns": null,
            "margin": null,
            "display": null,
            "left": null
          }
        },
        "53c9e45131b54f30ae95deafd3a7fc8b": {
          "model_module": "@jupyter-widgets/controls",
          "model_name": "ProgressStyleModel",
          "model_module_version": "1.5.0",
          "state": {
            "_view_name": "StyleView",
            "_model_name": "ProgressStyleModel",
            "description_width": "",
            "_view_module": "@jupyter-widgets/base",
            "_model_module_version": "1.5.0",
            "_view_count": null,
            "_view_module_version": "1.2.0",
            "bar_color": null,
            "_model_module": "@jupyter-widgets/controls"
          }
        },
        "5ba375701bb14e65aeff53dc92b7d44b": {
          "model_module": "@jupyter-widgets/base",
          "model_name": "LayoutModel",
          "model_module_version": "1.2.0",
          "state": {
            "_view_name": "LayoutView",
            "grid_template_rows": null,
            "right": null,
            "justify_content": null,
            "_view_module": "@jupyter-widgets/base",
            "overflow": null,
            "_model_module_version": "1.2.0",
            "_view_count": null,
            "flex_flow": null,
            "width": "20px",
            "min_width": null,
            "border": null,
            "align_items": null,
            "bottom": null,
            "_model_module": "@jupyter-widgets/base",
            "top": null,
            "grid_column": null,
            "overflow_y": null,
            "overflow_x": null,
            "grid_auto_flow": null,
            "grid_area": null,
            "grid_template_columns": null,
            "flex": null,
            "_model_name": "LayoutModel",
            "justify_items": null,
            "grid_row": null,
            "max_height": null,
            "align_content": null,
            "visibility": null,
            "align_self": null,
            "height": null,
            "min_height": null,
            "padding": null,
            "grid_auto_rows": null,
            "grid_gap": null,
            "max_width": null,
            "order": null,
            "_view_module_version": "1.2.0",
            "grid_template_areas": null,
            "object_position": null,
            "object_fit": null,
            "grid_auto_columns": null,
            "margin": null,
            "display": null,
            "left": null
          }
        },
        "8fd4c8fce0ad4bda8b853e8afb8fa5cb": {
          "model_module": "@jupyter-widgets/controls",
          "model_name": "DescriptionStyleModel",
          "model_module_version": "1.5.0",
          "state": {
            "_view_name": "StyleView",
            "_model_name": "DescriptionStyleModel",
            "description_width": "",
            "_view_module": "@jupyter-widgets/base",
            "_model_module_version": "1.5.0",
            "_view_count": null,
            "_view_module_version": "1.2.0",
            "_model_module": "@jupyter-widgets/controls"
          }
        },
        "aa9b6a31505049cbb9e84f16234527d0": {
          "model_module": "@jupyter-widgets/base",
          "model_name": "LayoutModel",
          "model_module_version": "1.2.0",
          "state": {
            "_view_name": "LayoutView",
            "grid_template_rows": null,
            "right": null,
            "justify_content": null,
            "_view_module": "@jupyter-widgets/base",
            "overflow": null,
            "_model_module_version": "1.2.0",
            "_view_count": null,
            "flex_flow": null,
            "width": null,
            "min_width": null,
            "border": null,
            "align_items": null,
            "bottom": null,
            "_model_module": "@jupyter-widgets/base",
            "top": null,
            "grid_column": null,
            "overflow_y": null,
            "overflow_x": null,
            "grid_auto_flow": null,
            "grid_area": null,
            "grid_template_columns": null,
            "flex": null,
            "_model_name": "LayoutModel",
            "justify_items": null,
            "grid_row": null,
            "max_height": null,
            "align_content": null,
            "visibility": null,
            "align_self": null,
            "height": null,
            "min_height": null,
            "padding": null,
            "grid_auto_rows": null,
            "grid_gap": null,
            "max_width": null,
            "order": null,
            "_view_module_version": "1.2.0",
            "grid_template_areas": null,
            "object_position": null,
            "object_fit": null,
            "grid_auto_columns": null,
            "margin": null,
            "display": null,
            "left": null
          }
        },
        "0736a99d56b24defa23bf482d4ea8488": {
          "model_module": "@jupyter-widgets/controls",
          "model_name": "HBoxModel",
          "model_module_version": "1.5.0",
          "state": {
            "_view_name": "HBoxView",
            "_dom_classes": [],
            "_model_name": "HBoxModel",
            "_view_module": "@jupyter-widgets/controls",
            "_model_module_version": "1.5.0",
            "_view_count": null,
            "_view_module_version": "1.5.0",
            "box_style": "",
            "layout": "IPY_MODEL_34b28a1de18e47ba9c29350f49d2c336",
            "_model_module": "@jupyter-widgets/controls",
            "children": [
              "IPY_MODEL_58c223b3efb14f35b4d9f7991dea1456",
              "IPY_MODEL_c5b134c579244412b54056d011657441",
              "IPY_MODEL_07df5134ce434b1ea35937296c81173c"
            ]
          }
        },
        "34b28a1de18e47ba9c29350f49d2c336": {
          "model_module": "@jupyter-widgets/base",
          "model_name": "LayoutModel",
          "model_module_version": "1.2.0",
          "state": {
            "_view_name": "LayoutView",
            "grid_template_rows": null,
            "right": null,
            "justify_content": null,
            "_view_module": "@jupyter-widgets/base",
            "overflow": null,
            "_model_module_version": "1.2.0",
            "_view_count": null,
            "flex_flow": null,
            "width": null,
            "min_width": null,
            "border": null,
            "align_items": null,
            "bottom": null,
            "_model_module": "@jupyter-widgets/base",
            "top": null,
            "grid_column": null,
            "overflow_y": null,
            "overflow_x": null,
            "grid_auto_flow": null,
            "grid_area": null,
            "grid_template_columns": null,
            "flex": null,
            "_model_name": "LayoutModel",
            "justify_items": null,
            "grid_row": null,
            "max_height": null,
            "align_content": null,
            "visibility": null,
            "align_self": null,
            "height": null,
            "min_height": null,
            "padding": null,
            "grid_auto_rows": null,
            "grid_gap": null,
            "max_width": null,
            "order": null,
            "_view_module_version": "1.2.0",
            "grid_template_areas": null,
            "object_position": null,
            "object_fit": null,
            "grid_auto_columns": null,
            "margin": null,
            "display": null,
            "left": null
          }
        },
        "58c223b3efb14f35b4d9f7991dea1456": {
          "model_module": "@jupyter-widgets/controls",
          "model_name": "HTMLModel",
          "model_module_version": "1.5.0",
          "state": {
            "_view_name": "HTMLView",
            "style": "IPY_MODEL_3c6798902c9e4e5bb90b8f01f649d86d",
            "_dom_classes": [],
            "description": "",
            "_model_name": "HTMLModel",
            "placeholder": "​",
            "_view_module": "@jupyter-widgets/controls",
            "_model_module_version": "1.5.0",
            "value": "",
            "_view_count": null,
            "_view_module_version": "1.5.0",
            "description_tooltip": null,
            "_model_module": "@jupyter-widgets/controls",
            "layout": "IPY_MODEL_01ed599e098c43f49a06a3da994d742b"
          }
        },
        "c5b134c579244412b54056d011657441": {
          "model_module": "@jupyter-widgets/controls",
          "model_name": "FloatProgressModel",
          "model_module_version": "1.5.0",
          "state": {
            "_view_name": "ProgressView",
            "style": "IPY_MODEL_08fa0877fafe4946b4fb315c2aa552d2",
            "_dom_classes": [],
            "description": "",
            "_model_name": "FloatProgressModel",
            "bar_style": "info",
            "max": 1,
            "_view_module": "@jupyter-widgets/controls",
            "_model_module_version": "1.5.0",
            "value": 1,
            "_view_count": null,
            "_view_module_version": "1.5.0",
            "orientation": "horizontal",
            "min": 0,
            "description_tooltip": null,
            "_model_module": "@jupyter-widgets/controls",
            "layout": "IPY_MODEL_0f81a6ef7eb04dd68a37bc6e9f5686c3"
          }
        },
        "07df5134ce434b1ea35937296c81173c": {
          "model_module": "@jupyter-widgets/controls",
          "model_name": "HTMLModel",
          "model_module_version": "1.5.0",
          "state": {
            "_view_name": "HTMLView",
            "style": "IPY_MODEL_ee8c60bb7b814a70a9e7d5ca59ff8789",
            "_dom_classes": [],
            "description": "",
            "_model_name": "HTMLModel",
            "placeholder": "​",
            "_view_module": "@jupyter-widgets/controls",
            "_model_module_version": "1.5.0",
            "value": " 0/? [00:00&lt;?, ? tables/s]",
            "_view_count": null,
            "_view_module_version": "1.5.0",
            "description_tooltip": null,
            "_model_module": "@jupyter-widgets/controls",
            "layout": "IPY_MODEL_1a59d9cac4274db182459affc963b758"
          }
        },
        "3c6798902c9e4e5bb90b8f01f649d86d": {
          "model_module": "@jupyter-widgets/controls",
          "model_name": "DescriptionStyleModel",
          "model_module_version": "1.5.0",
          "state": {
            "_view_name": "StyleView",
            "_model_name": "DescriptionStyleModel",
            "description_width": "",
            "_view_module": "@jupyter-widgets/base",
            "_model_module_version": "1.5.0",
            "_view_count": null,
            "_view_module_version": "1.2.0",
            "_model_module": "@jupyter-widgets/controls"
          }
        },
        "01ed599e098c43f49a06a3da994d742b": {
          "model_module": "@jupyter-widgets/base",
          "model_name": "LayoutModel",
          "model_module_version": "1.2.0",
          "state": {
            "_view_name": "LayoutView",
            "grid_template_rows": null,
            "right": null,
            "justify_content": null,
            "_view_module": "@jupyter-widgets/base",
            "overflow": null,
            "_model_module_version": "1.2.0",
            "_view_count": null,
            "flex_flow": null,
            "width": null,
            "min_width": null,
            "border": null,
            "align_items": null,
            "bottom": null,
            "_model_module": "@jupyter-widgets/base",
            "top": null,
            "grid_column": null,
            "overflow_y": null,
            "overflow_x": null,
            "grid_auto_flow": null,
            "grid_area": null,
            "grid_template_columns": null,
            "flex": null,
            "_model_name": "LayoutModel",
            "justify_items": null,
            "grid_row": null,
            "max_height": null,
            "align_content": null,
            "visibility": null,
            "align_self": null,
            "height": null,
            "min_height": null,
            "padding": null,
            "grid_auto_rows": null,
            "grid_gap": null,
            "max_width": null,
            "order": null,
            "_view_module_version": "1.2.0",
            "grid_template_areas": null,
            "object_position": null,
            "object_fit": null,
            "grid_auto_columns": null,
            "margin": null,
            "display": null,
            "left": null
          }
        },
        "08fa0877fafe4946b4fb315c2aa552d2": {
          "model_module": "@jupyter-widgets/controls",
          "model_name": "ProgressStyleModel",
          "model_module_version": "1.5.0",
          "state": {
            "_view_name": "StyleView",
            "_model_name": "ProgressStyleModel",
            "description_width": "",
            "_view_module": "@jupyter-widgets/base",
            "_model_module_version": "1.5.0",
            "_view_count": null,
            "_view_module_version": "1.2.0",
            "bar_color": null,
            "_model_module": "@jupyter-widgets/controls"
          }
        },
        "0f81a6ef7eb04dd68a37bc6e9f5686c3": {
          "model_module": "@jupyter-widgets/base",
          "model_name": "LayoutModel",
          "model_module_version": "1.2.0",
          "state": {
            "_view_name": "LayoutView",
            "grid_template_rows": null,
            "right": null,
            "justify_content": null,
            "_view_module": "@jupyter-widgets/base",
            "overflow": null,
            "_model_module_version": "1.2.0",
            "_view_count": null,
            "flex_flow": null,
            "width": "20px",
            "min_width": null,
            "border": null,
            "align_items": null,
            "bottom": null,
            "_model_module": "@jupyter-widgets/base",
            "top": null,
            "grid_column": null,
            "overflow_y": null,
            "overflow_x": null,
            "grid_auto_flow": null,
            "grid_area": null,
            "grid_template_columns": null,
            "flex": null,
            "_model_name": "LayoutModel",
            "justify_items": null,
            "grid_row": null,
            "max_height": null,
            "align_content": null,
            "visibility": null,
            "align_self": null,
            "height": null,
            "min_height": null,
            "padding": null,
            "grid_auto_rows": null,
            "grid_gap": null,
            "max_width": null,
            "order": null,
            "_view_module_version": "1.2.0",
            "grid_template_areas": null,
            "object_position": null,
            "object_fit": null,
            "grid_auto_columns": null,
            "margin": null,
            "display": null,
            "left": null
          }
        },
        "ee8c60bb7b814a70a9e7d5ca59ff8789": {
          "model_module": "@jupyter-widgets/controls",
          "model_name": "DescriptionStyleModel",
          "model_module_version": "1.5.0",
          "state": {
            "_view_name": "StyleView",
            "_model_name": "DescriptionStyleModel",
            "description_width": "",
            "_view_module": "@jupyter-widgets/base",
            "_model_module_version": "1.5.0",
            "_view_count": null,
            "_view_module_version": "1.2.0",
            "_model_module": "@jupyter-widgets/controls"
          }
        },
        "1a59d9cac4274db182459affc963b758": {
          "model_module": "@jupyter-widgets/base",
          "model_name": "LayoutModel",
          "model_module_version": "1.2.0",
          "state": {
            "_view_name": "LayoutView",
            "grid_template_rows": null,
            "right": null,
            "justify_content": null,
            "_view_module": "@jupyter-widgets/base",
            "overflow": null,
            "_model_module_version": "1.2.0",
            "_view_count": null,
            "flex_flow": null,
            "width": null,
            "min_width": null,
            "border": null,
            "align_items": null,
            "bottom": null,
            "_model_module": "@jupyter-widgets/base",
            "top": null,
            "grid_column": null,
            "overflow_y": null,
            "overflow_x": null,
            "grid_auto_flow": null,
            "grid_area": null,
            "grid_template_columns": null,
            "flex": null,
            "_model_name": "LayoutModel",
            "justify_items": null,
            "grid_row": null,
            "max_height": null,
            "align_content": null,
            "visibility": null,
            "align_self": null,
            "height": null,
            "min_height": null,
            "padding": null,
            "grid_auto_rows": null,
            "grid_gap": null,
            "max_width": null,
            "order": null,
            "_view_module_version": "1.2.0",
            "grid_template_areas": null,
            "object_position": null,
            "object_fit": null,
            "grid_auto_columns": null,
            "margin": null,
            "display": null,
            "left": null
          }
        },
        "1518f5d16b5f463794b03f4437008aeb": {
          "model_module": "@jupyter-widgets/controls",
          "model_name": "HBoxModel",
          "model_module_version": "1.5.0",
          "state": {
            "_view_name": "HBoxView",
            "_dom_classes": [],
            "_model_name": "HBoxModel",
            "_view_module": "@jupyter-widgets/controls",
            "_model_module_version": "1.5.0",
            "_view_count": null,
            "_view_module_version": "1.5.0",
            "box_style": "",
            "layout": "IPY_MODEL_66eb919a4870433facbe203a625ce038",
            "_model_module": "@jupyter-widgets/controls",
            "children": [
              "IPY_MODEL_85b52c44b21b49f382918e215278840c",
              "IPY_MODEL_6bfcd66a18fe41b7b4c0e144a07950cf",
              "IPY_MODEL_35cf764756114bdf92a8b250c7a199ba"
            ]
          }
        },
        "66eb919a4870433facbe203a625ce038": {
          "model_module": "@jupyter-widgets/base",
          "model_name": "LayoutModel",
          "model_module_version": "1.2.0",
          "state": {
            "_view_name": "LayoutView",
            "grid_template_rows": null,
            "right": null,
            "justify_content": null,
            "_view_module": "@jupyter-widgets/base",
            "overflow": null,
            "_model_module_version": "1.2.0",
            "_view_count": null,
            "flex_flow": null,
            "width": null,
            "min_width": null,
            "border": null,
            "align_items": null,
            "bottom": null,
            "_model_module": "@jupyter-widgets/base",
            "top": null,
            "grid_column": null,
            "overflow_y": null,
            "overflow_x": null,
            "grid_auto_flow": null,
            "grid_area": null,
            "grid_template_columns": null,
            "flex": null,
            "_model_name": "LayoutModel",
            "justify_items": null,
            "grid_row": null,
            "max_height": null,
            "align_content": null,
            "visibility": null,
            "align_self": null,
            "height": null,
            "min_height": null,
            "padding": null,
            "grid_auto_rows": null,
            "grid_gap": null,
            "max_width": null,
            "order": null,
            "_view_module_version": "1.2.0",
            "grid_template_areas": null,
            "object_position": null,
            "object_fit": null,
            "grid_auto_columns": null,
            "margin": null,
            "display": null,
            "left": null
          }
        },
        "85b52c44b21b49f382918e215278840c": {
          "model_module": "@jupyter-widgets/controls",
          "model_name": "HTMLModel",
          "model_module_version": "1.5.0",
          "state": {
            "_view_name": "HTMLView",
            "style": "IPY_MODEL_95d6afe44ea8452fba5799772c9703ef",
            "_dom_classes": [],
            "description": "",
            "_model_name": "HTMLModel",
            "placeholder": "​",
            "_view_module": "@jupyter-widgets/controls",
            "_model_module_version": "1.5.0",
            "value": "Downloading: 100%",
            "_view_count": null,
            "_view_module_version": "1.5.0",
            "description_tooltip": null,
            "_model_module": "@jupyter-widgets/controls",
            "layout": "IPY_MODEL_9fda771a1d274a818c06e952a71cc455"
          }
        },
        "6bfcd66a18fe41b7b4c0e144a07950cf": {
          "model_module": "@jupyter-widgets/controls",
          "model_name": "FloatProgressModel",
          "model_module_version": "1.5.0",
          "state": {
            "_view_name": "ProgressView",
            "style": "IPY_MODEL_3c456d95bf214183b7357a0d9f2ef21b",
            "_dom_classes": [],
            "description": "",
            "_model_name": "FloatProgressModel",
            "bar_style": "success",
            "max": 29,
            "_view_module": "@jupyter-widgets/controls",
            "_model_module_version": "1.5.0",
            "value": 29,
            "_view_count": null,
            "_view_module_version": "1.5.0",
            "orientation": "horizontal",
            "min": 0,
            "description_tooltip": null,
            "_model_module": "@jupyter-widgets/controls",
            "layout": "IPY_MODEL_a9a3ac13b3b04ecf988445c6b82b71fe"
          }
        },
        "35cf764756114bdf92a8b250c7a199ba": {
          "model_module": "@jupyter-widgets/controls",
          "model_name": "HTMLModel",
          "model_module_version": "1.5.0",
          "state": {
            "_view_name": "HTMLView",
            "style": "IPY_MODEL_45a001d1f18f41c5a22330a3fe6be285",
            "_dom_classes": [],
            "description": "",
            "_model_name": "HTMLModel",
            "placeholder": "​",
            "_view_module": "@jupyter-widgets/controls",
            "_model_module_version": "1.5.0",
            "value": " 29.0/29.0 [00:00&lt;00:00, 586B/s]",
            "_view_count": null,
            "_view_module_version": "1.5.0",
            "description_tooltip": null,
            "_model_module": "@jupyter-widgets/controls",
            "layout": "IPY_MODEL_e8b1ddc2eb434240a8bc052e1ebe3f44"
          }
        },
        "95d6afe44ea8452fba5799772c9703ef": {
          "model_module": "@jupyter-widgets/controls",
          "model_name": "DescriptionStyleModel",
          "model_module_version": "1.5.0",
          "state": {
            "_view_name": "StyleView",
            "_model_name": "DescriptionStyleModel",
            "description_width": "",
            "_view_module": "@jupyter-widgets/base",
            "_model_module_version": "1.5.0",
            "_view_count": null,
            "_view_module_version": "1.2.0",
            "_model_module": "@jupyter-widgets/controls"
          }
        },
        "9fda771a1d274a818c06e952a71cc455": {
          "model_module": "@jupyter-widgets/base",
          "model_name": "LayoutModel",
          "model_module_version": "1.2.0",
          "state": {
            "_view_name": "LayoutView",
            "grid_template_rows": null,
            "right": null,
            "justify_content": null,
            "_view_module": "@jupyter-widgets/base",
            "overflow": null,
            "_model_module_version": "1.2.0",
            "_view_count": null,
            "flex_flow": null,
            "width": null,
            "min_width": null,
            "border": null,
            "align_items": null,
            "bottom": null,
            "_model_module": "@jupyter-widgets/base",
            "top": null,
            "grid_column": null,
            "overflow_y": null,
            "overflow_x": null,
            "grid_auto_flow": null,
            "grid_area": null,
            "grid_template_columns": null,
            "flex": null,
            "_model_name": "LayoutModel",
            "justify_items": null,
            "grid_row": null,
            "max_height": null,
            "align_content": null,
            "visibility": null,
            "align_self": null,
            "height": null,
            "min_height": null,
            "padding": null,
            "grid_auto_rows": null,
            "grid_gap": null,
            "max_width": null,
            "order": null,
            "_view_module_version": "1.2.0",
            "grid_template_areas": null,
            "object_position": null,
            "object_fit": null,
            "grid_auto_columns": null,
            "margin": null,
            "display": null,
            "left": null
          }
        },
        "3c456d95bf214183b7357a0d9f2ef21b": {
          "model_module": "@jupyter-widgets/controls",
          "model_name": "ProgressStyleModel",
          "model_module_version": "1.5.0",
          "state": {
            "_view_name": "StyleView",
            "_model_name": "ProgressStyleModel",
            "description_width": "",
            "_view_module": "@jupyter-widgets/base",
            "_model_module_version": "1.5.0",
            "_view_count": null,
            "_view_module_version": "1.2.0",
            "bar_color": null,
            "_model_module": "@jupyter-widgets/controls"
          }
        },
        "a9a3ac13b3b04ecf988445c6b82b71fe": {
          "model_module": "@jupyter-widgets/base",
          "model_name": "LayoutModel",
          "model_module_version": "1.2.0",
          "state": {
            "_view_name": "LayoutView",
            "grid_template_rows": null,
            "right": null,
            "justify_content": null,
            "_view_module": "@jupyter-widgets/base",
            "overflow": null,
            "_model_module_version": "1.2.0",
            "_view_count": null,
            "flex_flow": null,
            "width": null,
            "min_width": null,
            "border": null,
            "align_items": null,
            "bottom": null,
            "_model_module": "@jupyter-widgets/base",
            "top": null,
            "grid_column": null,
            "overflow_y": null,
            "overflow_x": null,
            "grid_auto_flow": null,
            "grid_area": null,
            "grid_template_columns": null,
            "flex": null,
            "_model_name": "LayoutModel",
            "justify_items": null,
            "grid_row": null,
            "max_height": null,
            "align_content": null,
            "visibility": null,
            "align_self": null,
            "height": null,
            "min_height": null,
            "padding": null,
            "grid_auto_rows": null,
            "grid_gap": null,
            "max_width": null,
            "order": null,
            "_view_module_version": "1.2.0",
            "grid_template_areas": null,
            "object_position": null,
            "object_fit": null,
            "grid_auto_columns": null,
            "margin": null,
            "display": null,
            "left": null
          }
        },
        "45a001d1f18f41c5a22330a3fe6be285": {
          "model_module": "@jupyter-widgets/controls",
          "model_name": "DescriptionStyleModel",
          "model_module_version": "1.5.0",
          "state": {
            "_view_name": "StyleView",
            "_model_name": "DescriptionStyleModel",
            "description_width": "",
            "_view_module": "@jupyter-widgets/base",
            "_model_module_version": "1.5.0",
            "_view_count": null,
            "_view_module_version": "1.2.0",
            "_model_module": "@jupyter-widgets/controls"
          }
        },
        "e8b1ddc2eb434240a8bc052e1ebe3f44": {
          "model_module": "@jupyter-widgets/base",
          "model_name": "LayoutModel",
          "model_module_version": "1.2.0",
          "state": {
            "_view_name": "LayoutView",
            "grid_template_rows": null,
            "right": null,
            "justify_content": null,
            "_view_module": "@jupyter-widgets/base",
            "overflow": null,
            "_model_module_version": "1.2.0",
            "_view_count": null,
            "flex_flow": null,
            "width": null,
            "min_width": null,
            "border": null,
            "align_items": null,
            "bottom": null,
            "_model_module": "@jupyter-widgets/base",
            "top": null,
            "grid_column": null,
            "overflow_y": null,
            "overflow_x": null,
            "grid_auto_flow": null,
            "grid_area": null,
            "grid_template_columns": null,
            "flex": null,
            "_model_name": "LayoutModel",
            "justify_items": null,
            "grid_row": null,
            "max_height": null,
            "align_content": null,
            "visibility": null,
            "align_self": null,
            "height": null,
            "min_height": null,
            "padding": null,
            "grid_auto_rows": null,
            "grid_gap": null,
            "max_width": null,
            "order": null,
            "_view_module_version": "1.2.0",
            "grid_template_areas": null,
            "object_position": null,
            "object_fit": null,
            "grid_auto_columns": null,
            "margin": null,
            "display": null,
            "left": null
          }
        },
        "53f88ebacd33436abfd1d752e9cb1b9b": {
          "model_module": "@jupyter-widgets/controls",
          "model_name": "HBoxModel",
          "model_module_version": "1.5.0",
          "state": {
            "_view_name": "HBoxView",
            "_dom_classes": [],
            "_model_name": "HBoxModel",
            "_view_module": "@jupyter-widgets/controls",
            "_model_module_version": "1.5.0",
            "_view_count": null,
            "_view_module_version": "1.5.0",
            "box_style": "",
            "layout": "IPY_MODEL_acf1ede2b9b441ea86d1b3a255f218c4",
            "_model_module": "@jupyter-widgets/controls",
            "children": [
              "IPY_MODEL_6a3f7ba17b164b31af7c8e6084654207",
              "IPY_MODEL_788fb365bf3d46c581d18e5aea5f16c1",
              "IPY_MODEL_bfa500f100314e28b307586b550214db"
            ]
          }
        },
        "acf1ede2b9b441ea86d1b3a255f218c4": {
          "model_module": "@jupyter-widgets/base",
          "model_name": "LayoutModel",
          "model_module_version": "1.2.0",
          "state": {
            "_view_name": "LayoutView",
            "grid_template_rows": null,
            "right": null,
            "justify_content": null,
            "_view_module": "@jupyter-widgets/base",
            "overflow": null,
            "_model_module_version": "1.2.0",
            "_view_count": null,
            "flex_flow": null,
            "width": null,
            "min_width": null,
            "border": null,
            "align_items": null,
            "bottom": null,
            "_model_module": "@jupyter-widgets/base",
            "top": null,
            "grid_column": null,
            "overflow_y": null,
            "overflow_x": null,
            "grid_auto_flow": null,
            "grid_area": null,
            "grid_template_columns": null,
            "flex": null,
            "_model_name": "LayoutModel",
            "justify_items": null,
            "grid_row": null,
            "max_height": null,
            "align_content": null,
            "visibility": null,
            "align_self": null,
            "height": null,
            "min_height": null,
            "padding": null,
            "grid_auto_rows": null,
            "grid_gap": null,
            "max_width": null,
            "order": null,
            "_view_module_version": "1.2.0",
            "grid_template_areas": null,
            "object_position": null,
            "object_fit": null,
            "grid_auto_columns": null,
            "margin": null,
            "display": null,
            "left": null
          }
        },
        "6a3f7ba17b164b31af7c8e6084654207": {
          "model_module": "@jupyter-widgets/controls",
          "model_name": "HTMLModel",
          "model_module_version": "1.5.0",
          "state": {
            "_view_name": "HTMLView",
            "style": "IPY_MODEL_418bf3cd25fc475e881713450c814407",
            "_dom_classes": [],
            "description": "",
            "_model_name": "HTMLModel",
            "placeholder": "​",
            "_view_module": "@jupyter-widgets/controls",
            "_model_module_version": "1.5.0",
            "value": "Downloading: 100%",
            "_view_count": null,
            "_view_module_version": "1.5.0",
            "description_tooltip": null,
            "_model_module": "@jupyter-widgets/controls",
            "layout": "IPY_MODEL_bbf075b8d4714ca2861ab4bee7965a95"
          }
        },
        "788fb365bf3d46c581d18e5aea5f16c1": {
          "model_module": "@jupyter-widgets/controls",
          "model_name": "FloatProgressModel",
          "model_module_version": "1.5.0",
          "state": {
            "_view_name": "ProgressView",
            "style": "IPY_MODEL_bc3efd39233a41e29a7fbbade55908de",
            "_dom_classes": [],
            "description": "",
            "_model_name": "FloatProgressModel",
            "bar_style": "success",
            "max": 570,
            "_view_module": "@jupyter-widgets/controls",
            "_model_module_version": "1.5.0",
            "value": 570,
            "_view_count": null,
            "_view_module_version": "1.5.0",
            "orientation": "horizontal",
            "min": 0,
            "description_tooltip": null,
            "_model_module": "@jupyter-widgets/controls",
            "layout": "IPY_MODEL_8df7fd7fb37946ebb036c135ba2aaa41"
          }
        },
        "bfa500f100314e28b307586b550214db": {
          "model_module": "@jupyter-widgets/controls",
          "model_name": "HTMLModel",
          "model_module_version": "1.5.0",
          "state": {
            "_view_name": "HTMLView",
            "style": "IPY_MODEL_a868b11cbe914e5997f9438d815689a1",
            "_dom_classes": [],
            "description": "",
            "_model_name": "HTMLModel",
            "placeholder": "​",
            "_view_module": "@jupyter-widgets/controls",
            "_model_module_version": "1.5.0",
            "value": " 570/570 [00:00&lt;00:00, 11.1kB/s]",
            "_view_count": null,
            "_view_module_version": "1.5.0",
            "description_tooltip": null,
            "_model_module": "@jupyter-widgets/controls",
            "layout": "IPY_MODEL_bf5a3b12ead94c668fc193442d19adf0"
          }
        },
        "418bf3cd25fc475e881713450c814407": {
          "model_module": "@jupyter-widgets/controls",
          "model_name": "DescriptionStyleModel",
          "model_module_version": "1.5.0",
          "state": {
            "_view_name": "StyleView",
            "_model_name": "DescriptionStyleModel",
            "description_width": "",
            "_view_module": "@jupyter-widgets/base",
            "_model_module_version": "1.5.0",
            "_view_count": null,
            "_view_module_version": "1.2.0",
            "_model_module": "@jupyter-widgets/controls"
          }
        },
        "bbf075b8d4714ca2861ab4bee7965a95": {
          "model_module": "@jupyter-widgets/base",
          "model_name": "LayoutModel",
          "model_module_version": "1.2.0",
          "state": {
            "_view_name": "LayoutView",
            "grid_template_rows": null,
            "right": null,
            "justify_content": null,
            "_view_module": "@jupyter-widgets/base",
            "overflow": null,
            "_model_module_version": "1.2.0",
            "_view_count": null,
            "flex_flow": null,
            "width": null,
            "min_width": null,
            "border": null,
            "align_items": null,
            "bottom": null,
            "_model_module": "@jupyter-widgets/base",
            "top": null,
            "grid_column": null,
            "overflow_y": null,
            "overflow_x": null,
            "grid_auto_flow": null,
            "grid_area": null,
            "grid_template_columns": null,
            "flex": null,
            "_model_name": "LayoutModel",
            "justify_items": null,
            "grid_row": null,
            "max_height": null,
            "align_content": null,
            "visibility": null,
            "align_self": null,
            "height": null,
            "min_height": null,
            "padding": null,
            "grid_auto_rows": null,
            "grid_gap": null,
            "max_width": null,
            "order": null,
            "_view_module_version": "1.2.0",
            "grid_template_areas": null,
            "object_position": null,
            "object_fit": null,
            "grid_auto_columns": null,
            "margin": null,
            "display": null,
            "left": null
          }
        },
        "bc3efd39233a41e29a7fbbade55908de": {
          "model_module": "@jupyter-widgets/controls",
          "model_name": "ProgressStyleModel",
          "model_module_version": "1.5.0",
          "state": {
            "_view_name": "StyleView",
            "_model_name": "ProgressStyleModel",
            "description_width": "",
            "_view_module": "@jupyter-widgets/base",
            "_model_module_version": "1.5.0",
            "_view_count": null,
            "_view_module_version": "1.2.0",
            "bar_color": null,
            "_model_module": "@jupyter-widgets/controls"
          }
        },
        "8df7fd7fb37946ebb036c135ba2aaa41": {
          "model_module": "@jupyter-widgets/base",
          "model_name": "LayoutModel",
          "model_module_version": "1.2.0",
          "state": {
            "_view_name": "LayoutView",
            "grid_template_rows": null,
            "right": null,
            "justify_content": null,
            "_view_module": "@jupyter-widgets/base",
            "overflow": null,
            "_model_module_version": "1.2.0",
            "_view_count": null,
            "flex_flow": null,
            "width": null,
            "min_width": null,
            "border": null,
            "align_items": null,
            "bottom": null,
            "_model_module": "@jupyter-widgets/base",
            "top": null,
            "grid_column": null,
            "overflow_y": null,
            "overflow_x": null,
            "grid_auto_flow": null,
            "grid_area": null,
            "grid_template_columns": null,
            "flex": null,
            "_model_name": "LayoutModel",
            "justify_items": null,
            "grid_row": null,
            "max_height": null,
            "align_content": null,
            "visibility": null,
            "align_self": null,
            "height": null,
            "min_height": null,
            "padding": null,
            "grid_auto_rows": null,
            "grid_gap": null,
            "max_width": null,
            "order": null,
            "_view_module_version": "1.2.0",
            "grid_template_areas": null,
            "object_position": null,
            "object_fit": null,
            "grid_auto_columns": null,
            "margin": null,
            "display": null,
            "left": null
          }
        },
        "a868b11cbe914e5997f9438d815689a1": {
          "model_module": "@jupyter-widgets/controls",
          "model_name": "DescriptionStyleModel",
          "model_module_version": "1.5.0",
          "state": {
            "_view_name": "StyleView",
            "_model_name": "DescriptionStyleModel",
            "description_width": "",
            "_view_module": "@jupyter-widgets/base",
            "_model_module_version": "1.5.0",
            "_view_count": null,
            "_view_module_version": "1.2.0",
            "_model_module": "@jupyter-widgets/controls"
          }
        },
        "bf5a3b12ead94c668fc193442d19adf0": {
          "model_module": "@jupyter-widgets/base",
          "model_name": "LayoutModel",
          "model_module_version": "1.2.0",
          "state": {
            "_view_name": "LayoutView",
            "grid_template_rows": null,
            "right": null,
            "justify_content": null,
            "_view_module": "@jupyter-widgets/base",
            "overflow": null,
            "_model_module_version": "1.2.0",
            "_view_count": null,
            "flex_flow": null,
            "width": null,
            "min_width": null,
            "border": null,
            "align_items": null,
            "bottom": null,
            "_model_module": "@jupyter-widgets/base",
            "top": null,
            "grid_column": null,
            "overflow_y": null,
            "overflow_x": null,
            "grid_auto_flow": null,
            "grid_area": null,
            "grid_template_columns": null,
            "flex": null,
            "_model_name": "LayoutModel",
            "justify_items": null,
            "grid_row": null,
            "max_height": null,
            "align_content": null,
            "visibility": null,
            "align_self": null,
            "height": null,
            "min_height": null,
            "padding": null,
            "grid_auto_rows": null,
            "grid_gap": null,
            "max_width": null,
            "order": null,
            "_view_module_version": "1.2.0",
            "grid_template_areas": null,
            "object_position": null,
            "object_fit": null,
            "grid_auto_columns": null,
            "margin": null,
            "display": null,
            "left": null
          }
        },
        "28d1898f6ee84f4e8f21f0dfffc8c19c": {
          "model_module": "@jupyter-widgets/controls",
          "model_name": "HBoxModel",
          "model_module_version": "1.5.0",
          "state": {
            "_view_name": "HBoxView",
            "_dom_classes": [],
            "_model_name": "HBoxModel",
            "_view_module": "@jupyter-widgets/controls",
            "_model_module_version": "1.5.0",
            "_view_count": null,
            "_view_module_version": "1.5.0",
            "box_style": "",
            "layout": "IPY_MODEL_13d21d506cdb4fc799fa733cfa9aaf02",
            "_model_module": "@jupyter-widgets/controls",
            "children": [
              "IPY_MODEL_fc98a405e6bb4b39bb65e369ca08bfa4",
              "IPY_MODEL_e7c6df586fd848efbb3bb842de14be14",
              "IPY_MODEL_42aa6f2a441d4bf49212e363b9289631"
            ]
          }
        },
        "13d21d506cdb4fc799fa733cfa9aaf02": {
          "model_module": "@jupyter-widgets/base",
          "model_name": "LayoutModel",
          "model_module_version": "1.2.0",
          "state": {
            "_view_name": "LayoutView",
            "grid_template_rows": null,
            "right": null,
            "justify_content": null,
            "_view_module": "@jupyter-widgets/base",
            "overflow": null,
            "_model_module_version": "1.2.0",
            "_view_count": null,
            "flex_flow": null,
            "width": null,
            "min_width": null,
            "border": null,
            "align_items": null,
            "bottom": null,
            "_model_module": "@jupyter-widgets/base",
            "top": null,
            "grid_column": null,
            "overflow_y": null,
            "overflow_x": null,
            "grid_auto_flow": null,
            "grid_area": null,
            "grid_template_columns": null,
            "flex": null,
            "_model_name": "LayoutModel",
            "justify_items": null,
            "grid_row": null,
            "max_height": null,
            "align_content": null,
            "visibility": null,
            "align_self": null,
            "height": null,
            "min_height": null,
            "padding": null,
            "grid_auto_rows": null,
            "grid_gap": null,
            "max_width": null,
            "order": null,
            "_view_module_version": "1.2.0",
            "grid_template_areas": null,
            "object_position": null,
            "object_fit": null,
            "grid_auto_columns": null,
            "margin": null,
            "display": null,
            "left": null
          }
        },
        "fc98a405e6bb4b39bb65e369ca08bfa4": {
          "model_module": "@jupyter-widgets/controls",
          "model_name": "HTMLModel",
          "model_module_version": "1.5.0",
          "state": {
            "_view_name": "HTMLView",
            "style": "IPY_MODEL_8408dab1b41243beb01dbe3fab148106",
            "_dom_classes": [],
            "description": "",
            "_model_name": "HTMLModel",
            "placeholder": "​",
            "_view_module": "@jupyter-widgets/controls",
            "_model_module_version": "1.5.0",
            "value": "Downloading: 100%",
            "_view_count": null,
            "_view_module_version": "1.5.0",
            "description_tooltip": null,
            "_model_module": "@jupyter-widgets/controls",
            "layout": "IPY_MODEL_c1429488375a48efaf9f5bfbf0bf7c73"
          }
        },
        "e7c6df586fd848efbb3bb842de14be14": {
          "model_module": "@jupyter-widgets/controls",
          "model_name": "FloatProgressModel",
          "model_module_version": "1.5.0",
          "state": {
            "_view_name": "ProgressView",
            "style": "IPY_MODEL_5ca552dbc2a141638ac84b924114593d",
            "_dom_classes": [],
            "description": "",
            "_model_name": "FloatProgressModel",
            "bar_style": "success",
            "max": 213450,
            "_view_module": "@jupyter-widgets/controls",
            "_model_module_version": "1.5.0",
            "value": 213450,
            "_view_count": null,
            "_view_module_version": "1.5.0",
            "orientation": "horizontal",
            "min": 0,
            "description_tooltip": null,
            "_model_module": "@jupyter-widgets/controls",
            "layout": "IPY_MODEL_aa770a174bde41109e7cd13bbbbb11ef"
          }
        },
        "42aa6f2a441d4bf49212e363b9289631": {
          "model_module": "@jupyter-widgets/controls",
          "model_name": "HTMLModel",
          "model_module_version": "1.5.0",
          "state": {
            "_view_name": "HTMLView",
            "style": "IPY_MODEL_548687e81d944ced8ca31ad0860c90ec",
            "_dom_classes": [],
            "description": "",
            "_model_name": "HTMLModel",
            "placeholder": "​",
            "_view_module": "@jupyter-widgets/controls",
            "_model_module_version": "1.5.0",
            "value": " 213k/213k [00:00&lt;00:00, 649kB/s]",
            "_view_count": null,
            "_view_module_version": "1.5.0",
            "description_tooltip": null,
            "_model_module": "@jupyter-widgets/controls",
            "layout": "IPY_MODEL_8b355ebe92a143db92a841f576fc4da6"
          }
        },
        "8408dab1b41243beb01dbe3fab148106": {
          "model_module": "@jupyter-widgets/controls",
          "model_name": "DescriptionStyleModel",
          "model_module_version": "1.5.0",
          "state": {
            "_view_name": "StyleView",
            "_model_name": "DescriptionStyleModel",
            "description_width": "",
            "_view_module": "@jupyter-widgets/base",
            "_model_module_version": "1.5.0",
            "_view_count": null,
            "_view_module_version": "1.2.0",
            "_model_module": "@jupyter-widgets/controls"
          }
        },
        "c1429488375a48efaf9f5bfbf0bf7c73": {
          "model_module": "@jupyter-widgets/base",
          "model_name": "LayoutModel",
          "model_module_version": "1.2.0",
          "state": {
            "_view_name": "LayoutView",
            "grid_template_rows": null,
            "right": null,
            "justify_content": null,
            "_view_module": "@jupyter-widgets/base",
            "overflow": null,
            "_model_module_version": "1.2.0",
            "_view_count": null,
            "flex_flow": null,
            "width": null,
            "min_width": null,
            "border": null,
            "align_items": null,
            "bottom": null,
            "_model_module": "@jupyter-widgets/base",
            "top": null,
            "grid_column": null,
            "overflow_y": null,
            "overflow_x": null,
            "grid_auto_flow": null,
            "grid_area": null,
            "grid_template_columns": null,
            "flex": null,
            "_model_name": "LayoutModel",
            "justify_items": null,
            "grid_row": null,
            "max_height": null,
            "align_content": null,
            "visibility": null,
            "align_self": null,
            "height": null,
            "min_height": null,
            "padding": null,
            "grid_auto_rows": null,
            "grid_gap": null,
            "max_width": null,
            "order": null,
            "_view_module_version": "1.2.0",
            "grid_template_areas": null,
            "object_position": null,
            "object_fit": null,
            "grid_auto_columns": null,
            "margin": null,
            "display": null,
            "left": null
          }
        },
        "5ca552dbc2a141638ac84b924114593d": {
          "model_module": "@jupyter-widgets/controls",
          "model_name": "ProgressStyleModel",
          "model_module_version": "1.5.0",
          "state": {
            "_view_name": "StyleView",
            "_model_name": "ProgressStyleModel",
            "description_width": "",
            "_view_module": "@jupyter-widgets/base",
            "_model_module_version": "1.5.0",
            "_view_count": null,
            "_view_module_version": "1.2.0",
            "bar_color": null,
            "_model_module": "@jupyter-widgets/controls"
          }
        },
        "aa770a174bde41109e7cd13bbbbb11ef": {
          "model_module": "@jupyter-widgets/base",
          "model_name": "LayoutModel",
          "model_module_version": "1.2.0",
          "state": {
            "_view_name": "LayoutView",
            "grid_template_rows": null,
            "right": null,
            "justify_content": null,
            "_view_module": "@jupyter-widgets/base",
            "overflow": null,
            "_model_module_version": "1.2.0",
            "_view_count": null,
            "flex_flow": null,
            "width": null,
            "min_width": null,
            "border": null,
            "align_items": null,
            "bottom": null,
            "_model_module": "@jupyter-widgets/base",
            "top": null,
            "grid_column": null,
            "overflow_y": null,
            "overflow_x": null,
            "grid_auto_flow": null,
            "grid_area": null,
            "grid_template_columns": null,
            "flex": null,
            "_model_name": "LayoutModel",
            "justify_items": null,
            "grid_row": null,
            "max_height": null,
            "align_content": null,
            "visibility": null,
            "align_self": null,
            "height": null,
            "min_height": null,
            "padding": null,
            "grid_auto_rows": null,
            "grid_gap": null,
            "max_width": null,
            "order": null,
            "_view_module_version": "1.2.0",
            "grid_template_areas": null,
            "object_position": null,
            "object_fit": null,
            "grid_auto_columns": null,
            "margin": null,
            "display": null,
            "left": null
          }
        },
        "548687e81d944ced8ca31ad0860c90ec": {
          "model_module": "@jupyter-widgets/controls",
          "model_name": "DescriptionStyleModel",
          "model_module_version": "1.5.0",
          "state": {
            "_view_name": "StyleView",
            "_model_name": "DescriptionStyleModel",
            "description_width": "",
            "_view_module": "@jupyter-widgets/base",
            "_model_module_version": "1.5.0",
            "_view_count": null,
            "_view_module_version": "1.2.0",
            "_model_module": "@jupyter-widgets/controls"
          }
        },
        "8b355ebe92a143db92a841f576fc4da6": {
          "model_module": "@jupyter-widgets/base",
          "model_name": "LayoutModel",
          "model_module_version": "1.2.0",
          "state": {
            "_view_name": "LayoutView",
            "grid_template_rows": null,
            "right": null,
            "justify_content": null,
            "_view_module": "@jupyter-widgets/base",
            "overflow": null,
            "_model_module_version": "1.2.0",
            "_view_count": null,
            "flex_flow": null,
            "width": null,
            "min_width": null,
            "border": null,
            "align_items": null,
            "bottom": null,
            "_model_module": "@jupyter-widgets/base",
            "top": null,
            "grid_column": null,
            "overflow_y": null,
            "overflow_x": null,
            "grid_auto_flow": null,
            "grid_area": null,
            "grid_template_columns": null,
            "flex": null,
            "_model_name": "LayoutModel",
            "justify_items": null,
            "grid_row": null,
            "max_height": null,
            "align_content": null,
            "visibility": null,
            "align_self": null,
            "height": null,
            "min_height": null,
            "padding": null,
            "grid_auto_rows": null,
            "grid_gap": null,
            "max_width": null,
            "order": null,
            "_view_module_version": "1.2.0",
            "grid_template_areas": null,
            "object_position": null,
            "object_fit": null,
            "grid_auto_columns": null,
            "margin": null,
            "display": null,
            "left": null
          }
        },
        "7a1f3d7bedcf4b3186d4a55c1dcb40c7": {
          "model_module": "@jupyter-widgets/controls",
          "model_name": "HBoxModel",
          "model_module_version": "1.5.0",
          "state": {
            "_view_name": "HBoxView",
            "_dom_classes": [],
            "_model_name": "HBoxModel",
            "_view_module": "@jupyter-widgets/controls",
            "_model_module_version": "1.5.0",
            "_view_count": null,
            "_view_module_version": "1.5.0",
            "box_style": "",
            "layout": "IPY_MODEL_f97109d4f3e940e8b5f2e73bc18e0c73",
            "_model_module": "@jupyter-widgets/controls",
            "children": [
              "IPY_MODEL_f26a7f887a7349c89f1cf7486017bc9b",
              "IPY_MODEL_67e15e2a69414b2aad9a5a32402a672c",
              "IPY_MODEL_fc9435567cee4dd88ac09763c25511a7"
            ]
          }
        },
        "f97109d4f3e940e8b5f2e73bc18e0c73": {
          "model_module": "@jupyter-widgets/base",
          "model_name": "LayoutModel",
          "model_module_version": "1.2.0",
          "state": {
            "_view_name": "LayoutView",
            "grid_template_rows": null,
            "right": null,
            "justify_content": null,
            "_view_module": "@jupyter-widgets/base",
            "overflow": null,
            "_model_module_version": "1.2.0",
            "_view_count": null,
            "flex_flow": null,
            "width": null,
            "min_width": null,
            "border": null,
            "align_items": null,
            "bottom": null,
            "_model_module": "@jupyter-widgets/base",
            "top": null,
            "grid_column": null,
            "overflow_y": null,
            "overflow_x": null,
            "grid_auto_flow": null,
            "grid_area": null,
            "grid_template_columns": null,
            "flex": null,
            "_model_name": "LayoutModel",
            "justify_items": null,
            "grid_row": null,
            "max_height": null,
            "align_content": null,
            "visibility": null,
            "align_self": null,
            "height": null,
            "min_height": null,
            "padding": null,
            "grid_auto_rows": null,
            "grid_gap": null,
            "max_width": null,
            "order": null,
            "_view_module_version": "1.2.0",
            "grid_template_areas": null,
            "object_position": null,
            "object_fit": null,
            "grid_auto_columns": null,
            "margin": null,
            "display": null,
            "left": null
          }
        },
        "f26a7f887a7349c89f1cf7486017bc9b": {
          "model_module": "@jupyter-widgets/controls",
          "model_name": "HTMLModel",
          "model_module_version": "1.5.0",
          "state": {
            "_view_name": "HTMLView",
            "style": "IPY_MODEL_ed33a9e70159410198caceca3b4d52e5",
            "_dom_classes": [],
            "description": "",
            "_model_name": "HTMLModel",
            "placeholder": "​",
            "_view_module": "@jupyter-widgets/controls",
            "_model_module_version": "1.5.0",
            "value": "Downloading: 100%",
            "_view_count": null,
            "_view_module_version": "1.5.0",
            "description_tooltip": null,
            "_model_module": "@jupyter-widgets/controls",
            "layout": "IPY_MODEL_f7a8f7f0e67c409aaac27eadfc6cf034"
          }
        },
        "67e15e2a69414b2aad9a5a32402a672c": {
          "model_module": "@jupyter-widgets/controls",
          "model_name": "FloatProgressModel",
          "model_module_version": "1.5.0",
          "state": {
            "_view_name": "ProgressView",
            "style": "IPY_MODEL_a0b2df0e591d44c49272db7b6446d863",
            "_dom_classes": [],
            "description": "",
            "_model_name": "FloatProgressModel",
            "bar_style": "success",
            "max": 435797,
            "_view_module": "@jupyter-widgets/controls",
            "_model_module_version": "1.5.0",
            "value": 435797,
            "_view_count": null,
            "_view_module_version": "1.5.0",
            "orientation": "horizontal",
            "min": 0,
            "description_tooltip": null,
            "_model_module": "@jupyter-widgets/controls",
            "layout": "IPY_MODEL_7426a2562ad14833a861feae50704105"
          }
        },
        "fc9435567cee4dd88ac09763c25511a7": {
          "model_module": "@jupyter-widgets/controls",
          "model_name": "HTMLModel",
          "model_module_version": "1.5.0",
          "state": {
            "_view_name": "HTMLView",
            "style": "IPY_MODEL_4fe7bfa670ca4f678add0218f46af37d",
            "_dom_classes": [],
            "description": "",
            "_model_name": "HTMLModel",
            "placeholder": "​",
            "_view_module": "@jupyter-widgets/controls",
            "_model_module_version": "1.5.0",
            "value": " 436k/436k [00:00&lt;00:00, 826kB/s]",
            "_view_count": null,
            "_view_module_version": "1.5.0",
            "description_tooltip": null,
            "_model_module": "@jupyter-widgets/controls",
            "layout": "IPY_MODEL_e2eda584df2a47c8a4ac001a47dec038"
          }
        },
        "ed33a9e70159410198caceca3b4d52e5": {
          "model_module": "@jupyter-widgets/controls",
          "model_name": "DescriptionStyleModel",
          "model_module_version": "1.5.0",
          "state": {
            "_view_name": "StyleView",
            "_model_name": "DescriptionStyleModel",
            "description_width": "",
            "_view_module": "@jupyter-widgets/base",
            "_model_module_version": "1.5.0",
            "_view_count": null,
            "_view_module_version": "1.2.0",
            "_model_module": "@jupyter-widgets/controls"
          }
        },
        "f7a8f7f0e67c409aaac27eadfc6cf034": {
          "model_module": "@jupyter-widgets/base",
          "model_name": "LayoutModel",
          "model_module_version": "1.2.0",
          "state": {
            "_view_name": "LayoutView",
            "grid_template_rows": null,
            "right": null,
            "justify_content": null,
            "_view_module": "@jupyter-widgets/base",
            "overflow": null,
            "_model_module_version": "1.2.0",
            "_view_count": null,
            "flex_flow": null,
            "width": null,
            "min_width": null,
            "border": null,
            "align_items": null,
            "bottom": null,
            "_model_module": "@jupyter-widgets/base",
            "top": null,
            "grid_column": null,
            "overflow_y": null,
            "overflow_x": null,
            "grid_auto_flow": null,
            "grid_area": null,
            "grid_template_columns": null,
            "flex": null,
            "_model_name": "LayoutModel",
            "justify_items": null,
            "grid_row": null,
            "max_height": null,
            "align_content": null,
            "visibility": null,
            "align_self": null,
            "height": null,
            "min_height": null,
            "padding": null,
            "grid_auto_rows": null,
            "grid_gap": null,
            "max_width": null,
            "order": null,
            "_view_module_version": "1.2.0",
            "grid_template_areas": null,
            "object_position": null,
            "object_fit": null,
            "grid_auto_columns": null,
            "margin": null,
            "display": null,
            "left": null
          }
        },
        "a0b2df0e591d44c49272db7b6446d863": {
          "model_module": "@jupyter-widgets/controls",
          "model_name": "ProgressStyleModel",
          "model_module_version": "1.5.0",
          "state": {
            "_view_name": "StyleView",
            "_model_name": "ProgressStyleModel",
            "description_width": "",
            "_view_module": "@jupyter-widgets/base",
            "_model_module_version": "1.5.0",
            "_view_count": null,
            "_view_module_version": "1.2.0",
            "bar_color": null,
            "_model_module": "@jupyter-widgets/controls"
          }
        },
        "7426a2562ad14833a861feae50704105": {
          "model_module": "@jupyter-widgets/base",
          "model_name": "LayoutModel",
          "model_module_version": "1.2.0",
          "state": {
            "_view_name": "LayoutView",
            "grid_template_rows": null,
            "right": null,
            "justify_content": null,
            "_view_module": "@jupyter-widgets/base",
            "overflow": null,
            "_model_module_version": "1.2.0",
            "_view_count": null,
            "flex_flow": null,
            "width": null,
            "min_width": null,
            "border": null,
            "align_items": null,
            "bottom": null,
            "_model_module": "@jupyter-widgets/base",
            "top": null,
            "grid_column": null,
            "overflow_y": null,
            "overflow_x": null,
            "grid_auto_flow": null,
            "grid_area": null,
            "grid_template_columns": null,
            "flex": null,
            "_model_name": "LayoutModel",
            "justify_items": null,
            "grid_row": null,
            "max_height": null,
            "align_content": null,
            "visibility": null,
            "align_self": null,
            "height": null,
            "min_height": null,
            "padding": null,
            "grid_auto_rows": null,
            "grid_gap": null,
            "max_width": null,
            "order": null,
            "_view_module_version": "1.2.0",
            "grid_template_areas": null,
            "object_position": null,
            "object_fit": null,
            "grid_auto_columns": null,
            "margin": null,
            "display": null,
            "left": null
          }
        },
        "4fe7bfa670ca4f678add0218f46af37d": {
          "model_module": "@jupyter-widgets/controls",
          "model_name": "DescriptionStyleModel",
          "model_module_version": "1.5.0",
          "state": {
            "_view_name": "StyleView",
            "_model_name": "DescriptionStyleModel",
            "description_width": "",
            "_view_module": "@jupyter-widgets/base",
            "_model_module_version": "1.5.0",
            "_view_count": null,
            "_view_module_version": "1.2.0",
            "_model_module": "@jupyter-widgets/controls"
          }
        },
        "e2eda584df2a47c8a4ac001a47dec038": {
          "model_module": "@jupyter-widgets/base",
          "model_name": "LayoutModel",
          "model_module_version": "1.2.0",
          "state": {
            "_view_name": "LayoutView",
            "grid_template_rows": null,
            "right": null,
            "justify_content": null,
            "_view_module": "@jupyter-widgets/base",
            "overflow": null,
            "_model_module_version": "1.2.0",
            "_view_count": null,
            "flex_flow": null,
            "width": null,
            "min_width": null,
            "border": null,
            "align_items": null,
            "bottom": null,
            "_model_module": "@jupyter-widgets/base",
            "top": null,
            "grid_column": null,
            "overflow_y": null,
            "overflow_x": null,
            "grid_auto_flow": null,
            "grid_area": null,
            "grid_template_columns": null,
            "flex": null,
            "_model_name": "LayoutModel",
            "justify_items": null,
            "grid_row": null,
            "max_height": null,
            "align_content": null,
            "visibility": null,
            "align_self": null,
            "height": null,
            "min_height": null,
            "padding": null,
            "grid_auto_rows": null,
            "grid_gap": null,
            "max_width": null,
            "order": null,
            "_view_module_version": "1.2.0",
            "grid_template_areas": null,
            "object_position": null,
            "object_fit": null,
            "grid_auto_columns": null,
            "margin": null,
            "display": null,
            "left": null
          }
        },
        "dda84714a7df4c30b860d4fbecefa7ef": {
          "model_module": "@jupyter-widgets/controls",
          "model_name": "HBoxModel",
          "model_module_version": "1.5.0",
          "state": {
            "_view_name": "HBoxView",
            "_dom_classes": [],
            "_model_name": "HBoxModel",
            "_view_module": "@jupyter-widgets/controls",
            "_model_module_version": "1.5.0",
            "_view_count": null,
            "_view_module_version": "1.5.0",
            "box_style": "",
            "layout": "IPY_MODEL_061173bef3f74b7b9018424a7d225d15",
            "_model_module": "@jupyter-widgets/controls",
            "children": [
              "IPY_MODEL_8b3a5fb3cc6b421c981cac3b31828fac",
              "IPY_MODEL_82e14da410e44ca1b73dbf40448bf3b9",
              "IPY_MODEL_6b7389e4385846229b5b7d614366b0dd"
            ]
          }
        },
        "061173bef3f74b7b9018424a7d225d15": {
          "model_module": "@jupyter-widgets/base",
          "model_name": "LayoutModel",
          "model_module_version": "1.2.0",
          "state": {
            "_view_name": "LayoutView",
            "grid_template_rows": null,
            "right": null,
            "justify_content": null,
            "_view_module": "@jupyter-widgets/base",
            "overflow": null,
            "_model_module_version": "1.2.0",
            "_view_count": null,
            "flex_flow": null,
            "width": null,
            "min_width": null,
            "border": null,
            "align_items": null,
            "bottom": null,
            "_model_module": "@jupyter-widgets/base",
            "top": null,
            "grid_column": null,
            "overflow_y": null,
            "overflow_x": null,
            "grid_auto_flow": null,
            "grid_area": null,
            "grid_template_columns": null,
            "flex": null,
            "_model_name": "LayoutModel",
            "justify_items": null,
            "grid_row": null,
            "max_height": null,
            "align_content": null,
            "visibility": null,
            "align_self": null,
            "height": null,
            "min_height": null,
            "padding": null,
            "grid_auto_rows": null,
            "grid_gap": null,
            "max_width": null,
            "order": null,
            "_view_module_version": "1.2.0",
            "grid_template_areas": null,
            "object_position": null,
            "object_fit": null,
            "grid_auto_columns": null,
            "margin": null,
            "display": null,
            "left": null
          }
        },
        "8b3a5fb3cc6b421c981cac3b31828fac": {
          "model_module": "@jupyter-widgets/controls",
          "model_name": "HTMLModel",
          "model_module_version": "1.5.0",
          "state": {
            "_view_name": "HTMLView",
            "style": "IPY_MODEL_85df081dfd5546bfac3b632ea26bdcd6",
            "_dom_classes": [],
            "description": "",
            "_model_name": "HTMLModel",
            "placeholder": "​",
            "_view_module": "@jupyter-widgets/controls",
            "_model_module_version": "1.5.0",
            "value": "100%",
            "_view_count": null,
            "_view_module_version": "1.5.0",
            "description_tooltip": null,
            "_model_module": "@jupyter-widgets/controls",
            "layout": "IPY_MODEL_ca6330dd22844cd5b467d9572ee9ebe7"
          }
        },
        "82e14da410e44ca1b73dbf40448bf3b9": {
          "model_module": "@jupyter-widgets/controls",
          "model_name": "FloatProgressModel",
          "model_module_version": "1.5.0",
          "state": {
            "_view_name": "ProgressView",
            "style": "IPY_MODEL_8d3721638f2b4e429fb6a28c05703ee5",
            "_dom_classes": [],
            "description": "",
            "_model_name": "FloatProgressModel",
            "bar_style": "success",
            "max": 2,
            "_view_module": "@jupyter-widgets/controls",
            "_model_module_version": "1.5.0",
            "value": 2,
            "_view_count": null,
            "_view_module_version": "1.5.0",
            "orientation": "horizontal",
            "min": 0,
            "description_tooltip": null,
            "_model_module": "@jupyter-widgets/controls",
            "layout": "IPY_MODEL_dd8530c5e7f741cb96eca92fa0328f37"
          }
        },
        "6b7389e4385846229b5b7d614366b0dd": {
          "model_module": "@jupyter-widgets/controls",
          "model_name": "HTMLModel",
          "model_module_version": "1.5.0",
          "state": {
            "_view_name": "HTMLView",
            "style": "IPY_MODEL_d75a5fc5c0cf4d8bae68b11941bec445",
            "_dom_classes": [],
            "description": "",
            "_model_name": "HTMLModel",
            "placeholder": "​",
            "_view_module": "@jupyter-widgets/controls",
            "_model_module_version": "1.5.0",
            "value": " 2/2 [00:00&lt;00:00,  3.50ba/s]",
            "_view_count": null,
            "_view_module_version": "1.5.0",
            "description_tooltip": null,
            "_model_module": "@jupyter-widgets/controls",
            "layout": "IPY_MODEL_f2879e2400914775bec021293d3138dc"
          }
        },
        "85df081dfd5546bfac3b632ea26bdcd6": {
          "model_module": "@jupyter-widgets/controls",
          "model_name": "DescriptionStyleModel",
          "model_module_version": "1.5.0",
          "state": {
            "_view_name": "StyleView",
            "_model_name": "DescriptionStyleModel",
            "description_width": "",
            "_view_module": "@jupyter-widgets/base",
            "_model_module_version": "1.5.0",
            "_view_count": null,
            "_view_module_version": "1.2.0",
            "_model_module": "@jupyter-widgets/controls"
          }
        },
        "ca6330dd22844cd5b467d9572ee9ebe7": {
          "model_module": "@jupyter-widgets/base",
          "model_name": "LayoutModel",
          "model_module_version": "1.2.0",
          "state": {
            "_view_name": "LayoutView",
            "grid_template_rows": null,
            "right": null,
            "justify_content": null,
            "_view_module": "@jupyter-widgets/base",
            "overflow": null,
            "_model_module_version": "1.2.0",
            "_view_count": null,
            "flex_flow": null,
            "width": null,
            "min_width": null,
            "border": null,
            "align_items": null,
            "bottom": null,
            "_model_module": "@jupyter-widgets/base",
            "top": null,
            "grid_column": null,
            "overflow_y": null,
            "overflow_x": null,
            "grid_auto_flow": null,
            "grid_area": null,
            "grid_template_columns": null,
            "flex": null,
            "_model_name": "LayoutModel",
            "justify_items": null,
            "grid_row": null,
            "max_height": null,
            "align_content": null,
            "visibility": null,
            "align_self": null,
            "height": null,
            "min_height": null,
            "padding": null,
            "grid_auto_rows": null,
            "grid_gap": null,
            "max_width": null,
            "order": null,
            "_view_module_version": "1.2.0",
            "grid_template_areas": null,
            "object_position": null,
            "object_fit": null,
            "grid_auto_columns": null,
            "margin": null,
            "display": null,
            "left": null
          }
        },
        "8d3721638f2b4e429fb6a28c05703ee5": {
          "model_module": "@jupyter-widgets/controls",
          "model_name": "ProgressStyleModel",
          "model_module_version": "1.5.0",
          "state": {
            "_view_name": "StyleView",
            "_model_name": "ProgressStyleModel",
            "description_width": "",
            "_view_module": "@jupyter-widgets/base",
            "_model_module_version": "1.5.0",
            "_view_count": null,
            "_view_module_version": "1.2.0",
            "bar_color": null,
            "_model_module": "@jupyter-widgets/controls"
          }
        },
        "dd8530c5e7f741cb96eca92fa0328f37": {
          "model_module": "@jupyter-widgets/base",
          "model_name": "LayoutModel",
          "model_module_version": "1.2.0",
          "state": {
            "_view_name": "LayoutView",
            "grid_template_rows": null,
            "right": null,
            "justify_content": null,
            "_view_module": "@jupyter-widgets/base",
            "overflow": null,
            "_model_module_version": "1.2.0",
            "_view_count": null,
            "flex_flow": null,
            "width": null,
            "min_width": null,
            "border": null,
            "align_items": null,
            "bottom": null,
            "_model_module": "@jupyter-widgets/base",
            "top": null,
            "grid_column": null,
            "overflow_y": null,
            "overflow_x": null,
            "grid_auto_flow": null,
            "grid_area": null,
            "grid_template_columns": null,
            "flex": null,
            "_model_name": "LayoutModel",
            "justify_items": null,
            "grid_row": null,
            "max_height": null,
            "align_content": null,
            "visibility": null,
            "align_self": null,
            "height": null,
            "min_height": null,
            "padding": null,
            "grid_auto_rows": null,
            "grid_gap": null,
            "max_width": null,
            "order": null,
            "_view_module_version": "1.2.0",
            "grid_template_areas": null,
            "object_position": null,
            "object_fit": null,
            "grid_auto_columns": null,
            "margin": null,
            "display": null,
            "left": null
          }
        },
        "d75a5fc5c0cf4d8bae68b11941bec445": {
          "model_module": "@jupyter-widgets/controls",
          "model_name": "DescriptionStyleModel",
          "model_module_version": "1.5.0",
          "state": {
            "_view_name": "StyleView",
            "_model_name": "DescriptionStyleModel",
            "description_width": "",
            "_view_module": "@jupyter-widgets/base",
            "_model_module_version": "1.5.0",
            "_view_count": null,
            "_view_module_version": "1.2.0",
            "_model_module": "@jupyter-widgets/controls"
          }
        },
        "f2879e2400914775bec021293d3138dc": {
          "model_module": "@jupyter-widgets/base",
          "model_name": "LayoutModel",
          "model_module_version": "1.2.0",
          "state": {
            "_view_name": "LayoutView",
            "grid_template_rows": null,
            "right": null,
            "justify_content": null,
            "_view_module": "@jupyter-widgets/base",
            "overflow": null,
            "_model_module_version": "1.2.0",
            "_view_count": null,
            "flex_flow": null,
            "width": null,
            "min_width": null,
            "border": null,
            "align_items": null,
            "bottom": null,
            "_model_module": "@jupyter-widgets/base",
            "top": null,
            "grid_column": null,
            "overflow_y": null,
            "overflow_x": null,
            "grid_auto_flow": null,
            "grid_area": null,
            "grid_template_columns": null,
            "flex": null,
            "_model_name": "LayoutModel",
            "justify_items": null,
            "grid_row": null,
            "max_height": null,
            "align_content": null,
            "visibility": null,
            "align_self": null,
            "height": null,
            "min_height": null,
            "padding": null,
            "grid_auto_rows": null,
            "grid_gap": null,
            "max_width": null,
            "order": null,
            "_view_module_version": "1.2.0",
            "grid_template_areas": null,
            "object_position": null,
            "object_fit": null,
            "grid_auto_columns": null,
            "margin": null,
            "display": null,
            "left": null
          }
        },
        "5ade255821e4496698bb0c984f424c7a": {
          "model_module": "@jupyter-widgets/controls",
          "model_name": "HBoxModel",
          "model_module_version": "1.5.0",
          "state": {
            "_view_name": "HBoxView",
            "_dom_classes": [],
            "_model_name": "HBoxModel",
            "_view_module": "@jupyter-widgets/controls",
            "_model_module_version": "1.5.0",
            "_view_count": null,
            "_view_module_version": "1.5.0",
            "box_style": "",
            "layout": "IPY_MODEL_df376a6da57b4cfeb87fc6e2b0d50dd4",
            "_model_module": "@jupyter-widgets/controls",
            "children": [
              "IPY_MODEL_9ee64ebcaba6482bbe826856bfb64c5c",
              "IPY_MODEL_2b443a19cc7d48048241ee67a6d0a3b8",
              "IPY_MODEL_69e60c343f594dbab84212a15439203b"
            ]
          }
        },
        "df376a6da57b4cfeb87fc6e2b0d50dd4": {
          "model_module": "@jupyter-widgets/base",
          "model_name": "LayoutModel",
          "model_module_version": "1.2.0",
          "state": {
            "_view_name": "LayoutView",
            "grid_template_rows": null,
            "right": null,
            "justify_content": null,
            "_view_module": "@jupyter-widgets/base",
            "overflow": null,
            "_model_module_version": "1.2.0",
            "_view_count": null,
            "flex_flow": null,
            "width": null,
            "min_width": null,
            "border": null,
            "align_items": null,
            "bottom": null,
            "_model_module": "@jupyter-widgets/base",
            "top": null,
            "grid_column": null,
            "overflow_y": null,
            "overflow_x": null,
            "grid_auto_flow": null,
            "grid_area": null,
            "grid_template_columns": null,
            "flex": null,
            "_model_name": "LayoutModel",
            "justify_items": null,
            "grid_row": null,
            "max_height": null,
            "align_content": null,
            "visibility": null,
            "align_self": null,
            "height": null,
            "min_height": null,
            "padding": null,
            "grid_auto_rows": null,
            "grid_gap": null,
            "max_width": null,
            "order": null,
            "_view_module_version": "1.2.0",
            "grid_template_areas": null,
            "object_position": null,
            "object_fit": null,
            "grid_auto_columns": null,
            "margin": null,
            "display": null,
            "left": null
          }
        },
        "9ee64ebcaba6482bbe826856bfb64c5c": {
          "model_module": "@jupyter-widgets/controls",
          "model_name": "HTMLModel",
          "model_module_version": "1.5.0",
          "state": {
            "_view_name": "HTMLView",
            "style": "IPY_MODEL_47058ca113c54173b96b9e642f3b24e5",
            "_dom_classes": [],
            "description": "",
            "_model_name": "HTMLModel",
            "placeholder": "​",
            "_view_module": "@jupyter-widgets/controls",
            "_model_module_version": "1.5.0",
            "value": "100%",
            "_view_count": null,
            "_view_module_version": "1.5.0",
            "description_tooltip": null,
            "_model_module": "@jupyter-widgets/controls",
            "layout": "IPY_MODEL_99f8756722df4b0e90aa51743b0c361c"
          }
        },
        "2b443a19cc7d48048241ee67a6d0a3b8": {
          "model_module": "@jupyter-widgets/controls",
          "model_name": "FloatProgressModel",
          "model_module_version": "1.5.0",
          "state": {
            "_view_name": "ProgressView",
            "style": "IPY_MODEL_a25a666e9b7549b1aa5eef360a4bb970",
            "_dom_classes": [],
            "description": "",
            "_model_name": "FloatProgressModel",
            "bar_style": "success",
            "max": 1,
            "_view_module": "@jupyter-widgets/controls",
            "_model_module_version": "1.5.0",
            "value": 1,
            "_view_count": null,
            "_view_module_version": "1.5.0",
            "orientation": "horizontal",
            "min": 0,
            "description_tooltip": null,
            "_model_module": "@jupyter-widgets/controls",
            "layout": "IPY_MODEL_70dab42ba73e4a47b24a2f2c081ddec7"
          }
        },
        "69e60c343f594dbab84212a15439203b": {
          "model_module": "@jupyter-widgets/controls",
          "model_name": "HTMLModel",
          "model_module_version": "1.5.0",
          "state": {
            "_view_name": "HTMLView",
            "style": "IPY_MODEL_bfddd21e28f14e0ab029d0027f1f84b1",
            "_dom_classes": [],
            "description": "",
            "_model_name": "HTMLModel",
            "placeholder": "​",
            "_view_module": "@jupyter-widgets/controls",
            "_model_module_version": "1.5.0",
            "value": " 1/1 [00:00&lt;00:00,  8.47ba/s]",
            "_view_count": null,
            "_view_module_version": "1.5.0",
            "description_tooltip": null,
            "_model_module": "@jupyter-widgets/controls",
            "layout": "IPY_MODEL_a448dc4029094032b8fd1880990eec0e"
          }
        },
        "47058ca113c54173b96b9e642f3b24e5": {
          "model_module": "@jupyter-widgets/controls",
          "model_name": "DescriptionStyleModel",
          "model_module_version": "1.5.0",
          "state": {
            "_view_name": "StyleView",
            "_model_name": "DescriptionStyleModel",
            "description_width": "",
            "_view_module": "@jupyter-widgets/base",
            "_model_module_version": "1.5.0",
            "_view_count": null,
            "_view_module_version": "1.2.0",
            "_model_module": "@jupyter-widgets/controls"
          }
        },
        "99f8756722df4b0e90aa51743b0c361c": {
          "model_module": "@jupyter-widgets/base",
          "model_name": "LayoutModel",
          "model_module_version": "1.2.0",
          "state": {
            "_view_name": "LayoutView",
            "grid_template_rows": null,
            "right": null,
            "justify_content": null,
            "_view_module": "@jupyter-widgets/base",
            "overflow": null,
            "_model_module_version": "1.2.0",
            "_view_count": null,
            "flex_flow": null,
            "width": null,
            "min_width": null,
            "border": null,
            "align_items": null,
            "bottom": null,
            "_model_module": "@jupyter-widgets/base",
            "top": null,
            "grid_column": null,
            "overflow_y": null,
            "overflow_x": null,
            "grid_auto_flow": null,
            "grid_area": null,
            "grid_template_columns": null,
            "flex": null,
            "_model_name": "LayoutModel",
            "justify_items": null,
            "grid_row": null,
            "max_height": null,
            "align_content": null,
            "visibility": null,
            "align_self": null,
            "height": null,
            "min_height": null,
            "padding": null,
            "grid_auto_rows": null,
            "grid_gap": null,
            "max_width": null,
            "order": null,
            "_view_module_version": "1.2.0",
            "grid_template_areas": null,
            "object_position": null,
            "object_fit": null,
            "grid_auto_columns": null,
            "margin": null,
            "display": null,
            "left": null
          }
        },
        "a25a666e9b7549b1aa5eef360a4bb970": {
          "model_module": "@jupyter-widgets/controls",
          "model_name": "ProgressStyleModel",
          "model_module_version": "1.5.0",
          "state": {
            "_view_name": "StyleView",
            "_model_name": "ProgressStyleModel",
            "description_width": "",
            "_view_module": "@jupyter-widgets/base",
            "_model_module_version": "1.5.0",
            "_view_count": null,
            "_view_module_version": "1.2.0",
            "bar_color": null,
            "_model_module": "@jupyter-widgets/controls"
          }
        },
        "70dab42ba73e4a47b24a2f2c081ddec7": {
          "model_module": "@jupyter-widgets/base",
          "model_name": "LayoutModel",
          "model_module_version": "1.2.0",
          "state": {
            "_view_name": "LayoutView",
            "grid_template_rows": null,
            "right": null,
            "justify_content": null,
            "_view_module": "@jupyter-widgets/base",
            "overflow": null,
            "_model_module_version": "1.2.0",
            "_view_count": null,
            "flex_flow": null,
            "width": null,
            "min_width": null,
            "border": null,
            "align_items": null,
            "bottom": null,
            "_model_module": "@jupyter-widgets/base",
            "top": null,
            "grid_column": null,
            "overflow_y": null,
            "overflow_x": null,
            "grid_auto_flow": null,
            "grid_area": null,
            "grid_template_columns": null,
            "flex": null,
            "_model_name": "LayoutModel",
            "justify_items": null,
            "grid_row": null,
            "max_height": null,
            "align_content": null,
            "visibility": null,
            "align_self": null,
            "height": null,
            "min_height": null,
            "padding": null,
            "grid_auto_rows": null,
            "grid_gap": null,
            "max_width": null,
            "order": null,
            "_view_module_version": "1.2.0",
            "grid_template_areas": null,
            "object_position": null,
            "object_fit": null,
            "grid_auto_columns": null,
            "margin": null,
            "display": null,
            "left": null
          }
        },
        "bfddd21e28f14e0ab029d0027f1f84b1": {
          "model_module": "@jupyter-widgets/controls",
          "model_name": "DescriptionStyleModel",
          "model_module_version": "1.5.0",
          "state": {
            "_view_name": "StyleView",
            "_model_name": "DescriptionStyleModel",
            "description_width": "",
            "_view_module": "@jupyter-widgets/base",
            "_model_module_version": "1.5.0",
            "_view_count": null,
            "_view_module_version": "1.2.0",
            "_model_module": "@jupyter-widgets/controls"
          }
        },
        "a448dc4029094032b8fd1880990eec0e": {
          "model_module": "@jupyter-widgets/base",
          "model_name": "LayoutModel",
          "model_module_version": "1.2.0",
          "state": {
            "_view_name": "LayoutView",
            "grid_template_rows": null,
            "right": null,
            "justify_content": null,
            "_view_module": "@jupyter-widgets/base",
            "overflow": null,
            "_model_module_version": "1.2.0",
            "_view_count": null,
            "flex_flow": null,
            "width": null,
            "min_width": null,
            "border": null,
            "align_items": null,
            "bottom": null,
            "_model_module": "@jupyter-widgets/base",
            "top": null,
            "grid_column": null,
            "overflow_y": null,
            "overflow_x": null,
            "grid_auto_flow": null,
            "grid_area": null,
            "grid_template_columns": null,
            "flex": null,
            "_model_name": "LayoutModel",
            "justify_items": null,
            "grid_row": null,
            "max_height": null,
            "align_content": null,
            "visibility": null,
            "align_self": null,
            "height": null,
            "min_height": null,
            "padding": null,
            "grid_auto_rows": null,
            "grid_gap": null,
            "max_width": null,
            "order": null,
            "_view_module_version": "1.2.0",
            "grid_template_areas": null,
            "object_position": null,
            "object_fit": null,
            "grid_auto_columns": null,
            "margin": null,
            "display": null,
            "left": null
          }
        },
        "07076b43ff2d421180d8a26391e301b3": {
          "model_module": "@jupyter-widgets/controls",
          "model_name": "HBoxModel",
          "model_module_version": "1.5.0",
          "state": {
            "_view_name": "HBoxView",
            "_dom_classes": [],
            "_model_name": "HBoxModel",
            "_view_module": "@jupyter-widgets/controls",
            "_model_module_version": "1.5.0",
            "_view_count": null,
            "_view_module_version": "1.5.0",
            "box_style": "",
            "layout": "IPY_MODEL_2ed463f8bd5e4ee6a50b8be75839cee6",
            "_model_module": "@jupyter-widgets/controls",
            "children": [
              "IPY_MODEL_86c2505d0d9148c9af257f32106be506",
              "IPY_MODEL_5231500ae48b49eeab4203b1091468ea",
              "IPY_MODEL_b610b6b4767d4001935a92229d0465a9"
            ]
          }
        },
        "2ed463f8bd5e4ee6a50b8be75839cee6": {
          "model_module": "@jupyter-widgets/base",
          "model_name": "LayoutModel",
          "model_module_version": "1.2.0",
          "state": {
            "_view_name": "LayoutView",
            "grid_template_rows": null,
            "right": null,
            "justify_content": null,
            "_view_module": "@jupyter-widgets/base",
            "overflow": null,
            "_model_module_version": "1.2.0",
            "_view_count": null,
            "flex_flow": null,
            "width": null,
            "min_width": null,
            "border": null,
            "align_items": null,
            "bottom": null,
            "_model_module": "@jupyter-widgets/base",
            "top": null,
            "grid_column": null,
            "overflow_y": null,
            "overflow_x": null,
            "grid_auto_flow": null,
            "grid_area": null,
            "grid_template_columns": null,
            "flex": null,
            "_model_name": "LayoutModel",
            "justify_items": null,
            "grid_row": null,
            "max_height": null,
            "align_content": null,
            "visibility": null,
            "align_self": null,
            "height": null,
            "min_height": null,
            "padding": null,
            "grid_auto_rows": null,
            "grid_gap": null,
            "max_width": null,
            "order": null,
            "_view_module_version": "1.2.0",
            "grid_template_areas": null,
            "object_position": null,
            "object_fit": null,
            "grid_auto_columns": null,
            "margin": null,
            "display": null,
            "left": null
          }
        },
        "86c2505d0d9148c9af257f32106be506": {
          "model_module": "@jupyter-widgets/controls",
          "model_name": "HTMLModel",
          "model_module_version": "1.5.0",
          "state": {
            "_view_name": "HTMLView",
            "style": "IPY_MODEL_b1e41a800b484979ae3fda4e30553edf",
            "_dom_classes": [],
            "description": "",
            "_model_name": "HTMLModel",
            "placeholder": "​",
            "_view_module": "@jupyter-widgets/controls",
            "_model_module_version": "1.5.0",
            "value": "Downloading: 100%",
            "_view_count": null,
            "_view_module_version": "1.5.0",
            "description_tooltip": null,
            "_model_module": "@jupyter-widgets/controls",
            "layout": "IPY_MODEL_9810558bf2d94c01bd65ee5dc2a0d6ab"
          }
        },
        "5231500ae48b49eeab4203b1091468ea": {
          "model_module": "@jupyter-widgets/controls",
          "model_name": "FloatProgressModel",
          "model_module_version": "1.5.0",
          "state": {
            "_view_name": "ProgressView",
            "style": "IPY_MODEL_0f387d295a9e4be6b631972ba4027735",
            "_dom_classes": [],
            "description": "",
            "_model_name": "FloatProgressModel",
            "bar_style": "success",
            "max": 435779157,
            "_view_module": "@jupyter-widgets/controls",
            "_model_module_version": "1.5.0",
            "value": 435779157,
            "_view_count": null,
            "_view_module_version": "1.5.0",
            "orientation": "horizontal",
            "min": 0,
            "description_tooltip": null,
            "_model_module": "@jupyter-widgets/controls",
            "layout": "IPY_MODEL_1d6a4f044e3c4dcf9416c6ff796742d1"
          }
        },
        "b610b6b4767d4001935a92229d0465a9": {
          "model_module": "@jupyter-widgets/controls",
          "model_name": "HTMLModel",
          "model_module_version": "1.5.0",
          "state": {
            "_view_name": "HTMLView",
            "style": "IPY_MODEL_6ead1550f49a4eb08cd533ba8ed89e33",
            "_dom_classes": [],
            "description": "",
            "_model_name": "HTMLModel",
            "placeholder": "​",
            "_view_module": "@jupyter-widgets/controls",
            "_model_module_version": "1.5.0",
            "value": " 436M/436M [00:10&lt;00:00, 41.7MB/s]",
            "_view_count": null,
            "_view_module_version": "1.5.0",
            "description_tooltip": null,
            "_model_module": "@jupyter-widgets/controls",
            "layout": "IPY_MODEL_9becd0b13ecf468d890fdc0a6b2bc3b6"
          }
        },
        "b1e41a800b484979ae3fda4e30553edf": {
          "model_module": "@jupyter-widgets/controls",
          "model_name": "DescriptionStyleModel",
          "model_module_version": "1.5.0",
          "state": {
            "_view_name": "StyleView",
            "_model_name": "DescriptionStyleModel",
            "description_width": "",
            "_view_module": "@jupyter-widgets/base",
            "_model_module_version": "1.5.0",
            "_view_count": null,
            "_view_module_version": "1.2.0",
            "_model_module": "@jupyter-widgets/controls"
          }
        },
        "9810558bf2d94c01bd65ee5dc2a0d6ab": {
          "model_module": "@jupyter-widgets/base",
          "model_name": "LayoutModel",
          "model_module_version": "1.2.0",
          "state": {
            "_view_name": "LayoutView",
            "grid_template_rows": null,
            "right": null,
            "justify_content": null,
            "_view_module": "@jupyter-widgets/base",
            "overflow": null,
            "_model_module_version": "1.2.0",
            "_view_count": null,
            "flex_flow": null,
            "width": null,
            "min_width": null,
            "border": null,
            "align_items": null,
            "bottom": null,
            "_model_module": "@jupyter-widgets/base",
            "top": null,
            "grid_column": null,
            "overflow_y": null,
            "overflow_x": null,
            "grid_auto_flow": null,
            "grid_area": null,
            "grid_template_columns": null,
            "flex": null,
            "_model_name": "LayoutModel",
            "justify_items": null,
            "grid_row": null,
            "max_height": null,
            "align_content": null,
            "visibility": null,
            "align_self": null,
            "height": null,
            "min_height": null,
            "padding": null,
            "grid_auto_rows": null,
            "grid_gap": null,
            "max_width": null,
            "order": null,
            "_view_module_version": "1.2.0",
            "grid_template_areas": null,
            "object_position": null,
            "object_fit": null,
            "grid_auto_columns": null,
            "margin": null,
            "display": null,
            "left": null
          }
        },
        "0f387d295a9e4be6b631972ba4027735": {
          "model_module": "@jupyter-widgets/controls",
          "model_name": "ProgressStyleModel",
          "model_module_version": "1.5.0",
          "state": {
            "_view_name": "StyleView",
            "_model_name": "ProgressStyleModel",
            "description_width": "",
            "_view_module": "@jupyter-widgets/base",
            "_model_module_version": "1.5.0",
            "_view_count": null,
            "_view_module_version": "1.2.0",
            "bar_color": null,
            "_model_module": "@jupyter-widgets/controls"
          }
        },
        "1d6a4f044e3c4dcf9416c6ff796742d1": {
          "model_module": "@jupyter-widgets/base",
          "model_name": "LayoutModel",
          "model_module_version": "1.2.0",
          "state": {
            "_view_name": "LayoutView",
            "grid_template_rows": null,
            "right": null,
            "justify_content": null,
            "_view_module": "@jupyter-widgets/base",
            "overflow": null,
            "_model_module_version": "1.2.0",
            "_view_count": null,
            "flex_flow": null,
            "width": null,
            "min_width": null,
            "border": null,
            "align_items": null,
            "bottom": null,
            "_model_module": "@jupyter-widgets/base",
            "top": null,
            "grid_column": null,
            "overflow_y": null,
            "overflow_x": null,
            "grid_auto_flow": null,
            "grid_area": null,
            "grid_template_columns": null,
            "flex": null,
            "_model_name": "LayoutModel",
            "justify_items": null,
            "grid_row": null,
            "max_height": null,
            "align_content": null,
            "visibility": null,
            "align_self": null,
            "height": null,
            "min_height": null,
            "padding": null,
            "grid_auto_rows": null,
            "grid_gap": null,
            "max_width": null,
            "order": null,
            "_view_module_version": "1.2.0",
            "grid_template_areas": null,
            "object_position": null,
            "object_fit": null,
            "grid_auto_columns": null,
            "margin": null,
            "display": null,
            "left": null
          }
        },
        "6ead1550f49a4eb08cd533ba8ed89e33": {
          "model_module": "@jupyter-widgets/controls",
          "model_name": "DescriptionStyleModel",
          "model_module_version": "1.5.0",
          "state": {
            "_view_name": "StyleView",
            "_model_name": "DescriptionStyleModel",
            "description_width": "",
            "_view_module": "@jupyter-widgets/base",
            "_model_module_version": "1.5.0",
            "_view_count": null,
            "_view_module_version": "1.2.0",
            "_model_module": "@jupyter-widgets/controls"
          }
        },
        "9becd0b13ecf468d890fdc0a6b2bc3b6": {
          "model_module": "@jupyter-widgets/base",
          "model_name": "LayoutModel",
          "model_module_version": "1.2.0",
          "state": {
            "_view_name": "LayoutView",
            "grid_template_rows": null,
            "right": null,
            "justify_content": null,
            "_view_module": "@jupyter-widgets/base",
            "overflow": null,
            "_model_module_version": "1.2.0",
            "_view_count": null,
            "flex_flow": null,
            "width": null,
            "min_width": null,
            "border": null,
            "align_items": null,
            "bottom": null,
            "_model_module": "@jupyter-widgets/base",
            "top": null,
            "grid_column": null,
            "overflow_y": null,
            "overflow_x": null,
            "grid_auto_flow": null,
            "grid_area": null,
            "grid_template_columns": null,
            "flex": null,
            "_model_name": "LayoutModel",
            "justify_items": null,
            "grid_row": null,
            "max_height": null,
            "align_content": null,
            "visibility": null,
            "align_self": null,
            "height": null,
            "min_height": null,
            "padding": null,
            "grid_auto_rows": null,
            "grid_gap": null,
            "max_width": null,
            "order": null,
            "_view_module_version": "1.2.0",
            "grid_template_areas": null,
            "object_position": null,
            "object_fit": null,
            "grid_auto_columns": null,
            "margin": null,
            "display": null,
            "left": null
          }
        },
        "9b805a619d8b454197bff7195be76502": {
          "model_module": "@jupyter-widgets/controls",
          "model_name": "HBoxModel",
          "model_module_version": "1.5.0",
          "state": {
            "_view_name": "HBoxView",
            "_dom_classes": [],
            "_model_name": "HBoxModel",
            "_view_module": "@jupyter-widgets/controls",
            "_model_module_version": "1.5.0",
            "_view_count": null,
            "_view_module_version": "1.5.0",
            "box_style": "",
            "layout": "IPY_MODEL_43645a7176734bdfac43b1a8af07df13",
            "_model_module": "@jupyter-widgets/controls",
            "children": [
              "IPY_MODEL_de471c8c5f744134966b01879e79004f",
              "IPY_MODEL_2407e590172a443b8533b0c0a649d1f8",
              "IPY_MODEL_c4e6312217ea4633a3a4e544f3aac0c8"
            ]
          }
        },
        "43645a7176734bdfac43b1a8af07df13": {
          "model_module": "@jupyter-widgets/base",
          "model_name": "LayoutModel",
          "model_module_version": "1.2.0",
          "state": {
            "_view_name": "LayoutView",
            "grid_template_rows": null,
            "right": null,
            "justify_content": null,
            "_view_module": "@jupyter-widgets/base",
            "overflow": null,
            "_model_module_version": "1.2.0",
            "_view_count": null,
            "flex_flow": null,
            "width": null,
            "min_width": null,
            "border": null,
            "align_items": null,
            "bottom": null,
            "_model_module": "@jupyter-widgets/base",
            "top": null,
            "grid_column": null,
            "overflow_y": null,
            "overflow_x": null,
            "grid_auto_flow": null,
            "grid_area": null,
            "grid_template_columns": null,
            "flex": null,
            "_model_name": "LayoutModel",
            "justify_items": null,
            "grid_row": null,
            "max_height": null,
            "align_content": null,
            "visibility": null,
            "align_self": null,
            "height": null,
            "min_height": null,
            "padding": null,
            "grid_auto_rows": null,
            "grid_gap": null,
            "max_width": null,
            "order": null,
            "_view_module_version": "1.2.0",
            "grid_template_areas": null,
            "object_position": null,
            "object_fit": null,
            "grid_auto_columns": null,
            "margin": null,
            "display": null,
            "left": null
          }
        },
        "de471c8c5f744134966b01879e79004f": {
          "model_module": "@jupyter-widgets/controls",
          "model_name": "HTMLModel",
          "model_module_version": "1.5.0",
          "state": {
            "_view_name": "HTMLView",
            "style": "IPY_MODEL_5099f05efe4e4b54afff236424ef4660",
            "_dom_classes": [],
            "description": "",
            "_model_name": "HTMLModel",
            "placeholder": "​",
            "_view_module": "@jupyter-widgets/controls",
            "_model_module_version": "1.5.0",
            "value": "Downloading: ",
            "_view_count": null,
            "_view_module_version": "1.5.0",
            "description_tooltip": null,
            "_model_module": "@jupyter-widgets/controls",
            "layout": "IPY_MODEL_a89c1bbabaec4065bee219f8cd30a824"
          }
        },
        "2407e590172a443b8533b0c0a649d1f8": {
          "model_module": "@jupyter-widgets/controls",
          "model_name": "FloatProgressModel",
          "model_module_version": "1.5.0",
          "state": {
            "_view_name": "ProgressView",
            "style": "IPY_MODEL_a81a62420ebf4672b487d8aa6b7b4c7f",
            "_dom_classes": [],
            "description": "",
            "_model_name": "FloatProgressModel",
            "bar_style": "success",
            "max": 1421,
            "_view_module": "@jupyter-widgets/controls",
            "_model_module_version": "1.5.0",
            "value": 1421,
            "_view_count": null,
            "_view_module_version": "1.5.0",
            "orientation": "horizontal",
            "min": 0,
            "description_tooltip": null,
            "_model_module": "@jupyter-widgets/controls",
            "layout": "IPY_MODEL_f63817cd8e9c495991c2181fed9cd7c4"
          }
        },
        "c4e6312217ea4633a3a4e544f3aac0c8": {
          "model_module": "@jupyter-widgets/controls",
          "model_name": "HTMLModel",
          "model_module_version": "1.5.0",
          "state": {
            "_view_name": "HTMLView",
            "style": "IPY_MODEL_28c6873346eb49bdb1f3e65b4c7c217e",
            "_dom_classes": [],
            "description": "",
            "_model_name": "HTMLModel",
            "placeholder": "​",
            "_view_module": "@jupyter-widgets/controls",
            "_model_module_version": "1.5.0",
            "value": " 3.21k/? [00:00&lt;00:00, 59.5kB/s]",
            "_view_count": null,
            "_view_module_version": "1.5.0",
            "description_tooltip": null,
            "_model_module": "@jupyter-widgets/controls",
            "layout": "IPY_MODEL_bd149e7925fc462fb3ab0a2490a95e7a"
          }
        },
        "5099f05efe4e4b54afff236424ef4660": {
          "model_module": "@jupyter-widgets/controls",
          "model_name": "DescriptionStyleModel",
          "model_module_version": "1.5.0",
          "state": {
            "_view_name": "StyleView",
            "_model_name": "DescriptionStyleModel",
            "description_width": "",
            "_view_module": "@jupyter-widgets/base",
            "_model_module_version": "1.5.0",
            "_view_count": null,
            "_view_module_version": "1.2.0",
            "_model_module": "@jupyter-widgets/controls"
          }
        },
        "a89c1bbabaec4065bee219f8cd30a824": {
          "model_module": "@jupyter-widgets/base",
          "model_name": "LayoutModel",
          "model_module_version": "1.2.0",
          "state": {
            "_view_name": "LayoutView",
            "grid_template_rows": null,
            "right": null,
            "justify_content": null,
            "_view_module": "@jupyter-widgets/base",
            "overflow": null,
            "_model_module_version": "1.2.0",
            "_view_count": null,
            "flex_flow": null,
            "width": null,
            "min_width": null,
            "border": null,
            "align_items": null,
            "bottom": null,
            "_model_module": "@jupyter-widgets/base",
            "top": null,
            "grid_column": null,
            "overflow_y": null,
            "overflow_x": null,
            "grid_auto_flow": null,
            "grid_area": null,
            "grid_template_columns": null,
            "flex": null,
            "_model_name": "LayoutModel",
            "justify_items": null,
            "grid_row": null,
            "max_height": null,
            "align_content": null,
            "visibility": null,
            "align_self": null,
            "height": null,
            "min_height": null,
            "padding": null,
            "grid_auto_rows": null,
            "grid_gap": null,
            "max_width": null,
            "order": null,
            "_view_module_version": "1.2.0",
            "grid_template_areas": null,
            "object_position": null,
            "object_fit": null,
            "grid_auto_columns": null,
            "margin": null,
            "display": null,
            "left": null
          }
        },
        "a81a62420ebf4672b487d8aa6b7b4c7f": {
          "model_module": "@jupyter-widgets/controls",
          "model_name": "ProgressStyleModel",
          "model_module_version": "1.5.0",
          "state": {
            "_view_name": "StyleView",
            "_model_name": "ProgressStyleModel",
            "description_width": "",
            "_view_module": "@jupyter-widgets/base",
            "_model_module_version": "1.5.0",
            "_view_count": null,
            "_view_module_version": "1.2.0",
            "bar_color": null,
            "_model_module": "@jupyter-widgets/controls"
          }
        },
        "f63817cd8e9c495991c2181fed9cd7c4": {
          "model_module": "@jupyter-widgets/base",
          "model_name": "LayoutModel",
          "model_module_version": "1.2.0",
          "state": {
            "_view_name": "LayoutView",
            "grid_template_rows": null,
            "right": null,
            "justify_content": null,
            "_view_module": "@jupyter-widgets/base",
            "overflow": null,
            "_model_module_version": "1.2.0",
            "_view_count": null,
            "flex_flow": null,
            "width": null,
            "min_width": null,
            "border": null,
            "align_items": null,
            "bottom": null,
            "_model_module": "@jupyter-widgets/base",
            "top": null,
            "grid_column": null,
            "overflow_y": null,
            "overflow_x": null,
            "grid_auto_flow": null,
            "grid_area": null,
            "grid_template_columns": null,
            "flex": null,
            "_model_name": "LayoutModel",
            "justify_items": null,
            "grid_row": null,
            "max_height": null,
            "align_content": null,
            "visibility": null,
            "align_self": null,
            "height": null,
            "min_height": null,
            "padding": null,
            "grid_auto_rows": null,
            "grid_gap": null,
            "max_width": null,
            "order": null,
            "_view_module_version": "1.2.0",
            "grid_template_areas": null,
            "object_position": null,
            "object_fit": null,
            "grid_auto_columns": null,
            "margin": null,
            "display": null,
            "left": null
          }
        },
        "28c6873346eb49bdb1f3e65b4c7c217e": {
          "model_module": "@jupyter-widgets/controls",
          "model_name": "DescriptionStyleModel",
          "model_module_version": "1.5.0",
          "state": {
            "_view_name": "StyleView",
            "_model_name": "DescriptionStyleModel",
            "description_width": "",
            "_view_module": "@jupyter-widgets/base",
            "_model_module_version": "1.5.0",
            "_view_count": null,
            "_view_module_version": "1.2.0",
            "_model_module": "@jupyter-widgets/controls"
          }
        },
        "bd149e7925fc462fb3ab0a2490a95e7a": {
          "model_module": "@jupyter-widgets/base",
          "model_name": "LayoutModel",
          "model_module_version": "1.2.0",
          "state": {
            "_view_name": "LayoutView",
            "grid_template_rows": null,
            "right": null,
            "justify_content": null,
            "_view_module": "@jupyter-widgets/base",
            "overflow": null,
            "_model_module_version": "1.2.0",
            "_view_count": null,
            "flex_flow": null,
            "width": null,
            "min_width": null,
            "border": null,
            "align_items": null,
            "bottom": null,
            "_model_module": "@jupyter-widgets/base",
            "top": null,
            "grid_column": null,
            "overflow_y": null,
            "overflow_x": null,
            "grid_auto_flow": null,
            "grid_area": null,
            "grid_template_columns": null,
            "flex": null,
            "_model_name": "LayoutModel",
            "justify_items": null,
            "grid_row": null,
            "max_height": null,
            "align_content": null,
            "visibility": null,
            "align_self": null,
            "height": null,
            "min_height": null,
            "padding": null,
            "grid_auto_rows": null,
            "grid_gap": null,
            "max_width": null,
            "order": null,
            "_view_module_version": "1.2.0",
            "grid_template_areas": null,
            "object_position": null,
            "object_fit": null,
            "grid_auto_columns": null,
            "margin": null,
            "display": null,
            "left": null
          }
        }
      }
    }
  },
  "cells": [
    {
      "cell_type": "code",
      "metadata": {
        "colab": {
          "base_uri": "https://localhost:8080/"
        },
        "id": "-JGELTN2ELZS",
        "outputId": "4fece541-0a2c-493c-a34b-ad8b7c8c807d"
      },
      "source": [
        "pip install datasets"
      ],
      "execution_count": null,
      "outputs": [
        {
          "output_type": "stream",
          "text": [
            "Collecting datasets\n",
            "  Downloading datasets-1.11.0-py3-none-any.whl (264 kB)\n",
            "\u001b[K     |████████████████████████████████| 264 kB 12.7 MB/s \n",
            "\u001b[?25hRequirement already satisfied: dill in /usr/local/lib/python3.7/dist-packages (from datasets) (0.3.4)\n",
            "Requirement already satisfied: multiprocess in /usr/local/lib/python3.7/dist-packages (from datasets) (0.70.12.2)\n",
            "Collecting huggingface-hub<0.1.0\n",
            "  Downloading huggingface_hub-0.0.15-py3-none-any.whl (43 kB)\n",
            "\u001b[K     |████████████████████████████████| 43 kB 1.3 MB/s \n",
            "\u001b[?25hRequirement already satisfied: pandas in /usr/local/lib/python3.7/dist-packages (from datasets) (1.1.5)\n",
            "Requirement already satisfied: packaging in /usr/local/lib/python3.7/dist-packages (from datasets) (21.0)\n",
            "Collecting fsspec>=2021.05.0\n",
            "  Downloading fsspec-2021.7.0-py3-none-any.whl (118 kB)\n",
            "\u001b[K     |████████████████████████████████| 118 kB 58.1 MB/s \n",
            "\u001b[?25hRequirement already satisfied: importlib-metadata in /usr/local/lib/python3.7/dist-packages (from datasets) (4.6.4)\n",
            "Requirement already satisfied: tqdm>=4.42 in /usr/local/lib/python3.7/dist-packages (from datasets) (4.62.0)\n",
            "Requirement already satisfied: requests>=2.19.0 in /usr/local/lib/python3.7/dist-packages (from datasets) (2.23.0)\n",
            "Collecting xxhash\n",
            "  Downloading xxhash-2.0.2-cp37-cp37m-manylinux2010_x86_64.whl (243 kB)\n",
            "\u001b[K     |████████████████████████████████| 243 kB 58.8 MB/s \n",
            "\u001b[?25hRequirement already satisfied: numpy>=1.17 in /usr/local/lib/python3.7/dist-packages (from datasets) (1.19.5)\n",
            "Requirement already satisfied: pyarrow!=4.0.0,>=1.0.0 in /usr/local/lib/python3.7/dist-packages (from datasets) (3.0.0)\n",
            "Requirement already satisfied: filelock in /usr/local/lib/python3.7/dist-packages (from huggingface-hub<0.1.0->datasets) (3.0.12)\n",
            "Requirement already satisfied: typing-extensions in /usr/local/lib/python3.7/dist-packages (from huggingface-hub<0.1.0->datasets) (3.7.4.3)\n",
            "Requirement already satisfied: pyparsing>=2.0.2 in /usr/local/lib/python3.7/dist-packages (from packaging->datasets) (2.4.7)\n",
            "Requirement already satisfied: certifi>=2017.4.17 in /usr/local/lib/python3.7/dist-packages (from requests>=2.19.0->datasets) (2021.5.30)\n",
            "Requirement already satisfied: urllib3!=1.25.0,!=1.25.1,<1.26,>=1.21.1 in /usr/local/lib/python3.7/dist-packages (from requests>=2.19.0->datasets) (1.24.3)\n",
            "Requirement already satisfied: chardet<4,>=3.0.2 in /usr/local/lib/python3.7/dist-packages (from requests>=2.19.0->datasets) (3.0.4)\n",
            "Requirement already satisfied: idna<3,>=2.5 in /usr/local/lib/python3.7/dist-packages (from requests>=2.19.0->datasets) (2.10)\n",
            "Requirement already satisfied: zipp>=0.5 in /usr/local/lib/python3.7/dist-packages (from importlib-metadata->datasets) (3.5.0)\n",
            "Requirement already satisfied: pytz>=2017.2 in /usr/local/lib/python3.7/dist-packages (from pandas->datasets) (2018.9)\n",
            "Requirement already satisfied: python-dateutil>=2.7.3 in /usr/local/lib/python3.7/dist-packages (from pandas->datasets) (2.8.2)\n",
            "Requirement already satisfied: six>=1.5 in /usr/local/lib/python3.7/dist-packages (from python-dateutil>=2.7.3->pandas->datasets) (1.15.0)\n",
            "Installing collected packages: xxhash, huggingface-hub, fsspec, datasets\n",
            "Successfully installed datasets-1.11.0 fsspec-2021.7.0 huggingface-hub-0.0.15 xxhash-2.0.2\n"
          ],
          "name": "stdout"
        }
      ]
    },
    {
      "cell_type": "code",
      "metadata": {
        "id": "Jwv4aH0ZEWID"
      },
      "source": [
        "from datasets import load_dataset"
      ],
      "execution_count": null,
      "outputs": []
    },
    {
      "cell_type": "code",
      "metadata": {
        "colab": {
          "base_uri": "https://localhost:8080/",
          "height": 89,
          "referenced_widgets": [
            "19381e0b382c41aea21175ff4bef578f",
            "3da83b86d15e413caf8d9b1c55d00381",
            "c16ddb3ae4e944cd8acf78f8e93066ec",
            "1076813f648540f381707f60c2f4b052",
            "7eb84b5087c746a09cda9360cb53360b",
            "d26f489d82a44d16a5793c0204d1bd3c",
            "3be18ad25cfa4a11aae8e4ec4f0d1f3d",
            "53c9e45131b54f30ae95deafd3a7fc8b",
            "5ba375701bb14e65aeff53dc92b7d44b",
            "8fd4c8fce0ad4bda8b853e8afb8fa5cb",
            "aa9b6a31505049cbb9e84f16234527d0",
            "0736a99d56b24defa23bf482d4ea8488",
            "34b28a1de18e47ba9c29350f49d2c336",
            "58c223b3efb14f35b4d9f7991dea1456",
            "c5b134c579244412b54056d011657441",
            "07df5134ce434b1ea35937296c81173c",
            "3c6798902c9e4e5bb90b8f01f649d86d",
            "01ed599e098c43f49a06a3da994d742b",
            "08fa0877fafe4946b4fb315c2aa552d2",
            "0f81a6ef7eb04dd68a37bc6e9f5686c3",
            "ee8c60bb7b814a70a9e7d5ca59ff8789",
            "1a59d9cac4274db182459affc963b758"
          ]
        },
        "id": "xFtc9yM_EcgB",
        "outputId": "19f8d960-a0f1-40db-ca94-73fa69afc585"
      },
      "source": [
        "dataset = load_dataset('csv', data_files={'train': 'train-output-types.csv',\n",
        "                                          'test': 'test-output-types.csv'})"
      ],
      "execution_count": null,
      "outputs": [
        {
          "output_type": "stream",
          "text": [
            "Using custom data configuration default-ad58f3c0fef90e34\n"
          ],
          "name": "stderr"
        },
        {
          "output_type": "stream",
          "text": [
            "Downloading and preparing dataset csv/default (download: Unknown size, generated: Unknown size, post-processed: Unknown size, total: Unknown size) to /root/.cache/huggingface/datasets/csv/default-ad58f3c0fef90e34/0.0.0/9144e0a4e8435090117cea53e6c7537173ef2304525df4a077c435d8ee7828ff...\n"
          ],
          "name": "stdout"
        },
        {
          "output_type": "display_data",
          "data": {
            "application/vnd.jupyter.widget-view+json": {
              "model_id": "19381e0b382c41aea21175ff4bef578f",
              "version_minor": 0,
              "version_major": 2
            },
            "text/plain": [
              "0 tables [00:00, ? tables/s]"
            ]
          },
          "metadata": {}
        },
        {
          "output_type": "display_data",
          "data": {
            "application/vnd.jupyter.widget-view+json": {
              "model_id": "0736a99d56b24defa23bf482d4ea8488",
              "version_minor": 0,
              "version_major": 2
            },
            "text/plain": [
              "0 tables [00:00, ? tables/s]"
            ]
          },
          "metadata": {}
        },
        {
          "output_type": "stream",
          "text": [
            "Dataset csv downloaded and prepared to /root/.cache/huggingface/datasets/csv/default-ad58f3c0fef90e34/0.0.0/9144e0a4e8435090117cea53e6c7537173ef2304525df4a077c435d8ee7828ff. Subsequent calls will reuse this data.\n"
          ],
          "name": "stdout"
        }
      ]
    },
    {
      "cell_type": "code",
      "metadata": {
        "colab": {
          "base_uri": "https://localhost:8080/"
        },
        "id": "ldO5s4qEEgaI",
        "outputId": "a3bd0dfe-680d-4aa2-ea32-bc4fc65bf50e"
      },
      "source": [
        "print(dataset)"
      ],
      "execution_count": null,
      "outputs": [
        {
          "output_type": "stream",
          "text": [
            "DatasetDict({\n",
            "    train: Dataset({\n",
            "        features: ['text', 'code', 'label'],\n",
            "        num_rows: 1283\n",
            "    })\n",
            "    test: Dataset({\n",
            "        features: ['text', 'code', 'label'],\n",
            "        num_rows: 254\n",
            "    })\n",
            "})\n"
          ],
          "name": "stdout"
        }
      ]
    },
    {
      "cell_type": "code",
      "metadata": {
        "colab": {
          "base_uri": "https://localhost:8080/"
        },
        "id": "42pzzHOKElto",
        "outputId": "f03f4335-dc48-4319-b646-8069d659b110"
      },
      "source": [
        "pip install transformers"
      ],
      "execution_count": null,
      "outputs": [
        {
          "output_type": "stream",
          "text": [
            "Collecting transformers\n",
            "  Downloading transformers-4.9.2-py3-none-any.whl (2.6 MB)\n",
            "\u001b[?25l\r\u001b[K     |▏                               | 10 kB 23.2 MB/s eta 0:00:01\r\u001b[K     |▎                               | 20 kB 27.8 MB/s eta 0:00:01\r\u001b[K     |▍                               | 30 kB 34.5 MB/s eta 0:00:01\r\u001b[K     |▌                               | 40 kB 23.7 MB/s eta 0:00:01\r\u001b[K     |▋                               | 51 kB 17.7 MB/s eta 0:00:01\r\u001b[K     |▊                               | 61 kB 16.3 MB/s eta 0:00:01\r\u001b[K     |▉                               | 71 kB 13.3 MB/s eta 0:00:01\r\u001b[K     |█                               | 81 kB 14.4 MB/s eta 0:00:01\r\u001b[K     |█▏                              | 92 kB 13.8 MB/s eta 0:00:01\r\u001b[K     |█▎                              | 102 kB 14.9 MB/s eta 0:00:01\r\u001b[K     |█▍                              | 112 kB 14.9 MB/s eta 0:00:01\r\u001b[K     |█▌                              | 122 kB 14.9 MB/s eta 0:00:01\r\u001b[K     |█▋                              | 133 kB 14.9 MB/s eta 0:00:01\r\u001b[K     |█▊                              | 143 kB 14.9 MB/s eta 0:00:01\r\u001b[K     |██                              | 153 kB 14.9 MB/s eta 0:00:01\r\u001b[K     |██                              | 163 kB 14.9 MB/s eta 0:00:01\r\u001b[K     |██▏                             | 174 kB 14.9 MB/s eta 0:00:01\r\u001b[K     |██▎                             | 184 kB 14.9 MB/s eta 0:00:01\r\u001b[K     |██▍                             | 194 kB 14.9 MB/s eta 0:00:01\r\u001b[K     |██▌                             | 204 kB 14.9 MB/s eta 0:00:01\r\u001b[K     |██▋                             | 215 kB 14.9 MB/s eta 0:00:01\r\u001b[K     |██▉                             | 225 kB 14.9 MB/s eta 0:00:01\r\u001b[K     |███                             | 235 kB 14.9 MB/s eta 0:00:01\r\u001b[K     |███                             | 245 kB 14.9 MB/s eta 0:00:01\r\u001b[K     |███▏                            | 256 kB 14.9 MB/s eta 0:00:01\r\u001b[K     |███▎                            | 266 kB 14.9 MB/s eta 0:00:01\r\u001b[K     |███▍                            | 276 kB 14.9 MB/s eta 0:00:01\r\u001b[K     |███▌                            | 286 kB 14.9 MB/s eta 0:00:01\r\u001b[K     |███▊                            | 296 kB 14.9 MB/s eta 0:00:01\r\u001b[K     |███▉                            | 307 kB 14.9 MB/s eta 0:00:01\r\u001b[K     |████                            | 317 kB 14.9 MB/s eta 0:00:01\r\u001b[K     |████                            | 327 kB 14.9 MB/s eta 0:00:01\r\u001b[K     |████▏                           | 337 kB 14.9 MB/s eta 0:00:01\r\u001b[K     |████▎                           | 348 kB 14.9 MB/s eta 0:00:01\r\u001b[K     |████▍                           | 358 kB 14.9 MB/s eta 0:00:01\r\u001b[K     |████▌                           | 368 kB 14.9 MB/s eta 0:00:01\r\u001b[K     |████▊                           | 378 kB 14.9 MB/s eta 0:00:01\r\u001b[K     |████▉                           | 389 kB 14.9 MB/s eta 0:00:01\r\u001b[K     |█████                           | 399 kB 14.9 MB/s eta 0:00:01\r\u001b[K     |█████                           | 409 kB 14.9 MB/s eta 0:00:01\r\u001b[K     |█████▏                          | 419 kB 14.9 MB/s eta 0:00:01\r\u001b[K     |█████▎                          | 430 kB 14.9 MB/s eta 0:00:01\r\u001b[K     |█████▍                          | 440 kB 14.9 MB/s eta 0:00:01\r\u001b[K     |█████▋                          | 450 kB 14.9 MB/s eta 0:00:01\r\u001b[K     |█████▊                          | 460 kB 14.9 MB/s eta 0:00:01\r\u001b[K     |█████▉                          | 471 kB 14.9 MB/s eta 0:00:01\r\u001b[K     |██████                          | 481 kB 14.9 MB/s eta 0:00:01\r\u001b[K     |██████                          | 491 kB 14.9 MB/s eta 0:00:01\r\u001b[K     |██████▏                         | 501 kB 14.9 MB/s eta 0:00:01\r\u001b[K     |██████▎                         | 512 kB 14.9 MB/s eta 0:00:01\r\u001b[K     |██████▌                         | 522 kB 14.9 MB/s eta 0:00:01\r\u001b[K     |██████▋                         | 532 kB 14.9 MB/s eta 0:00:01\r\u001b[K     |██████▊                         | 542 kB 14.9 MB/s eta 0:00:01\r\u001b[K     |██████▉                         | 552 kB 14.9 MB/s eta 0:00:01\r\u001b[K     |███████                         | 563 kB 14.9 MB/s eta 0:00:01\r\u001b[K     |███████                         | 573 kB 14.9 MB/s eta 0:00:01\r\u001b[K     |███████▏                        | 583 kB 14.9 MB/s eta 0:00:01\r\u001b[K     |███████▍                        | 593 kB 14.9 MB/s eta 0:00:01\r\u001b[K     |███████▌                        | 604 kB 14.9 MB/s eta 0:00:01\r\u001b[K     |███████▋                        | 614 kB 14.9 MB/s eta 0:00:01\r\u001b[K     |███████▊                        | 624 kB 14.9 MB/s eta 0:00:01\r\u001b[K     |███████▉                        | 634 kB 14.9 MB/s eta 0:00:01\r\u001b[K     |████████                        | 645 kB 14.9 MB/s eta 0:00:01\r\u001b[K     |████████                        | 655 kB 14.9 MB/s eta 0:00:01\r\u001b[K     |████████▏                       | 665 kB 14.9 MB/s eta 0:00:01\r\u001b[K     |████████▍                       | 675 kB 14.9 MB/s eta 0:00:01\r\u001b[K     |████████▌                       | 686 kB 14.9 MB/s eta 0:00:01\r\u001b[K     |████████▋                       | 696 kB 14.9 MB/s eta 0:00:01\r\u001b[K     |████████▊                       | 706 kB 14.9 MB/s eta 0:00:01\r\u001b[K     |████████▉                       | 716 kB 14.9 MB/s eta 0:00:01\r\u001b[K     |█████████                       | 727 kB 14.9 MB/s eta 0:00:01\r\u001b[K     |█████████                       | 737 kB 14.9 MB/s eta 0:00:01\r\u001b[K     |█████████▎                      | 747 kB 14.9 MB/s eta 0:00:01\r\u001b[K     |█████████▍                      | 757 kB 14.9 MB/s eta 0:00:01\r\u001b[K     |█████████▌                      | 768 kB 14.9 MB/s eta 0:00:01\r\u001b[K     |█████████▋                      | 778 kB 14.9 MB/s eta 0:00:01\r\u001b[K     |█████████▊                      | 788 kB 14.9 MB/s eta 0:00:01\r\u001b[K     |█████████▉                      | 798 kB 14.9 MB/s eta 0:00:01\r\u001b[K     |██████████                      | 808 kB 14.9 MB/s eta 0:00:01\r\u001b[K     |██████████▏                     | 819 kB 14.9 MB/s eta 0:00:01\r\u001b[K     |██████████▎                     | 829 kB 14.9 MB/s eta 0:00:01\r\u001b[K     |██████████▍                     | 839 kB 14.9 MB/s eta 0:00:01\r\u001b[K     |██████████▌                     | 849 kB 14.9 MB/s eta 0:00:01\r\u001b[K     |██████████▋                     | 860 kB 14.9 MB/s eta 0:00:01\r\u001b[K     |██████████▊                     | 870 kB 14.9 MB/s eta 0:00:01\r\u001b[K     |██████████▉                     | 880 kB 14.9 MB/s eta 0:00:01\r\u001b[K     |███████████                     | 890 kB 14.9 MB/s eta 0:00:01\r\u001b[K     |███████████▏                    | 901 kB 14.9 MB/s eta 0:00:01\r\u001b[K     |███████████▎                    | 911 kB 14.9 MB/s eta 0:00:01\r\u001b[K     |███████████▍                    | 921 kB 14.9 MB/s eta 0:00:01\r\u001b[K     |███████████▌                    | 931 kB 14.9 MB/s eta 0:00:01\r\u001b[K     |███████████▋                    | 942 kB 14.9 MB/s eta 0:00:01\r\u001b[K     |███████████▊                    | 952 kB 14.9 MB/s eta 0:00:01\r\u001b[K     |███████████▉                    | 962 kB 14.9 MB/s eta 0:00:01\r\u001b[K     |████████████                    | 972 kB 14.9 MB/s eta 0:00:01\r\u001b[K     |████████████▏                   | 983 kB 14.9 MB/s eta 0:00:01\r\u001b[K     |████████████▎                   | 993 kB 14.9 MB/s eta 0:00:01\r\u001b[K     |████████████▍                   | 1.0 MB 14.9 MB/s eta 0:00:01\r\u001b[K     |████████████▌                   | 1.0 MB 14.9 MB/s eta 0:00:01\r\u001b[K     |████████████▋                   | 1.0 MB 14.9 MB/s eta 0:00:01\r\u001b[K     |████████████▊                   | 1.0 MB 14.9 MB/s eta 0:00:01\r\u001b[K     |█████████████                   | 1.0 MB 14.9 MB/s eta 0:00:01\r\u001b[K     |█████████████                   | 1.1 MB 14.9 MB/s eta 0:00:01\r\u001b[K     |█████████████▏                  | 1.1 MB 14.9 MB/s eta 0:00:01\r\u001b[K     |█████████████▎                  | 1.1 MB 14.9 MB/s eta 0:00:01\r\u001b[K     |█████████████▍                  | 1.1 MB 14.9 MB/s eta 0:00:01\r\u001b[K     |█████████████▌                  | 1.1 MB 14.9 MB/s eta 0:00:01\r\u001b[K     |█████████████▋                  | 1.1 MB 14.9 MB/s eta 0:00:01\r\u001b[K     |█████████████▉                  | 1.1 MB 14.9 MB/s eta 0:00:01\r\u001b[K     |██████████████                  | 1.1 MB 14.9 MB/s eta 0:00:01\r\u001b[K     |██████████████                  | 1.1 MB 14.9 MB/s eta 0:00:01\r\u001b[K     |██████████████▏                 | 1.1 MB 14.9 MB/s eta 0:00:01\r\u001b[K     |██████████████▎                 | 1.2 MB 14.9 MB/s eta 0:00:01\r\u001b[K     |██████████████▍                 | 1.2 MB 14.9 MB/s eta 0:00:01\r\u001b[K     |██████████████▌                 | 1.2 MB 14.9 MB/s eta 0:00:01\r\u001b[K     |██████████████▊                 | 1.2 MB 14.9 MB/s eta 0:00:01\r\u001b[K     |██████████████▉                 | 1.2 MB 14.9 MB/s eta 0:00:01\r\u001b[K     |███████████████                 | 1.2 MB 14.9 MB/s eta 0:00:01\r\u001b[K     |███████████████                 | 1.2 MB 14.9 MB/s eta 0:00:01\r\u001b[K     |███████████████▏                | 1.2 MB 14.9 MB/s eta 0:00:01\r\u001b[K     |███████████████▎                | 1.2 MB 14.9 MB/s eta 0:00:01\r\u001b[K     |███████████████▍                | 1.2 MB 14.9 MB/s eta 0:00:01\r\u001b[K     |███████████████▌                | 1.3 MB 14.9 MB/s eta 0:00:01\r\u001b[K     |███████████████▊                | 1.3 MB 14.9 MB/s eta 0:00:01\r\u001b[K     |███████████████▉                | 1.3 MB 14.9 MB/s eta 0:00:01\r\u001b[K     |████████████████                | 1.3 MB 14.9 MB/s eta 0:00:01\r\u001b[K     |████████████████                | 1.3 MB 14.9 MB/s eta 0:00:01\r\u001b[K     |████████████████▏               | 1.3 MB 14.9 MB/s eta 0:00:01\r\u001b[K     |████████████████▎               | 1.3 MB 14.9 MB/s eta 0:00:01\r\u001b[K     |████████████████▍               | 1.3 MB 14.9 MB/s eta 0:00:01\r\u001b[K     |████████████████▋               | 1.3 MB 14.9 MB/s eta 0:00:01\r\u001b[K     |████████████████▊               | 1.4 MB 14.9 MB/s eta 0:00:01\r\u001b[K     |████████████████▉               | 1.4 MB 14.9 MB/s eta 0:00:01\r\u001b[K     |█████████████████               | 1.4 MB 14.9 MB/s eta 0:00:01\r\u001b[K     |█████████████████               | 1.4 MB 14.9 MB/s eta 0:00:01\r\u001b[K     |█████████████████▏              | 1.4 MB 14.9 MB/s eta 0:00:01\r\u001b[K     |█████████████████▎              | 1.4 MB 14.9 MB/s eta 0:00:01\r\u001b[K     |█████████████████▌              | 1.4 MB 14.9 MB/s eta 0:00:01\r\u001b[K     |█████████████████▋              | 1.4 MB 14.9 MB/s eta 0:00:01\r\u001b[K     |█████████████████▊              | 1.4 MB 14.9 MB/s eta 0:00:01\r\u001b[K     |█████████████████▉              | 1.4 MB 14.9 MB/s eta 0:00:01\r\u001b[K     |██████████████████              | 1.5 MB 14.9 MB/s eta 0:00:01\r\u001b[K     |██████████████████              | 1.5 MB 14.9 MB/s eta 0:00:01\r\u001b[K     |██████████████████▏             | 1.5 MB 14.9 MB/s eta 0:00:01\r\u001b[K     |██████████████████▍             | 1.5 MB 14.9 MB/s eta 0:00:01\r\u001b[K     |██████████████████▌             | 1.5 MB 14.9 MB/s eta 0:00:01\r\u001b[K     |██████████████████▋             | 1.5 MB 14.9 MB/s eta 0:00:01\r\u001b[K     |██████████████████▊             | 1.5 MB 14.9 MB/s eta 0:00:01\r\u001b[K     |██████████████████▉             | 1.5 MB 14.9 MB/s eta 0:00:01\r\u001b[K     |███████████████████             | 1.5 MB 14.9 MB/s eta 0:00:01\r\u001b[K     |███████████████████             | 1.5 MB 14.9 MB/s eta 0:00:01\r\u001b[K     |███████████████████▏            | 1.6 MB 14.9 MB/s eta 0:00:01\r\u001b[K     |███████████████████▍            | 1.6 MB 14.9 MB/s eta 0:00:01\r\u001b[K     |███████████████████▌            | 1.6 MB 14.9 MB/s eta 0:00:01\r\u001b[K     |███████████████████▋            | 1.6 MB 14.9 MB/s eta 0:00:01\r\u001b[K     |███████████████████▊            | 1.6 MB 14.9 MB/s eta 0:00:01\r\u001b[K     |███████████████████▉            | 1.6 MB 14.9 MB/s eta 0:00:01\r\u001b[K     |████████████████████            | 1.6 MB 14.9 MB/s eta 0:00:01\r\u001b[K     |████████████████████            | 1.6 MB 14.9 MB/s eta 0:00:01\r\u001b[K     |████████████████████▎           | 1.6 MB 14.9 MB/s eta 0:00:01\r\u001b[K     |████████████████████▍           | 1.6 MB 14.9 MB/s eta 0:00:01\r\u001b[K     |████████████████████▌           | 1.7 MB 14.9 MB/s eta 0:00:01\r\u001b[K     |████████████████████▋           | 1.7 MB 14.9 MB/s eta 0:00:01\r\u001b[K     |████████████████████▊           | 1.7 MB 14.9 MB/s eta 0:00:01\r\u001b[K     |████████████████████▉           | 1.7 MB 14.9 MB/s eta 0:00:01\r\u001b[K     |█████████████████████           | 1.7 MB 14.9 MB/s eta 0:00:01\r\u001b[K     |█████████████████████▏          | 1.7 MB 14.9 MB/s eta 0:00:01\r\u001b[K     |█████████████████████▎          | 1.7 MB 14.9 MB/s eta 0:00:01\r\u001b[K     |█████████████████████▍          | 1.7 MB 14.9 MB/s eta 0:00:01\r\u001b[K     |█████████████████████▌          | 1.7 MB 14.9 MB/s eta 0:00:01\r\u001b[K     |█████████████████████▋          | 1.8 MB 14.9 MB/s eta 0:00:01\r\u001b[K     |█████████████████████▊          | 1.8 MB 14.9 MB/s eta 0:00:01\r\u001b[K     |█████████████████████▉          | 1.8 MB 14.9 MB/s eta 0:00:01\r\u001b[K     |██████████████████████          | 1.8 MB 14.9 MB/s eta 0:00:01\r\u001b[K     |██████████████████████▏         | 1.8 MB 14.9 MB/s eta 0:00:01\r\u001b[K     |██████████████████████▎         | 1.8 MB 14.9 MB/s eta 0:00:01\r\u001b[K     |██████████████████████▍         | 1.8 MB 14.9 MB/s eta 0:00:01\r\u001b[K     |██████████████████████▌         | 1.8 MB 14.9 MB/s eta 0:00:01\r\u001b[K     |██████████████████████▋         | 1.8 MB 14.9 MB/s eta 0:00:01\r\u001b[K     |██████████████████████▊         | 1.8 MB 14.9 MB/s eta 0:00:01\r\u001b[K     |██████████████████████▉         | 1.9 MB 14.9 MB/s eta 0:00:01\r\u001b[K     |███████████████████████         | 1.9 MB 14.9 MB/s eta 0:00:01\r\u001b[K     |███████████████████████▏        | 1.9 MB 14.9 MB/s eta 0:00:01\r\u001b[K     |███████████████████████▎        | 1.9 MB 14.9 MB/s eta 0:00:01\r\u001b[K     |███████████████████████▍        | 1.9 MB 14.9 MB/s eta 0:00:01\r\u001b[K     |███████████████████████▌        | 1.9 MB 14.9 MB/s eta 0:00:01\r\u001b[K     |███████████████████████▋        | 1.9 MB 14.9 MB/s eta 0:00:01\r\u001b[K     |███████████████████████▊        | 1.9 MB 14.9 MB/s eta 0:00:01\r\u001b[K     |████████████████████████        | 1.9 MB 14.9 MB/s eta 0:00:01\r\u001b[K     |████████████████████████        | 1.9 MB 14.9 MB/s eta 0:00:01\r\u001b[K     |████████████████████████▏       | 2.0 MB 14.9 MB/s eta 0:00:01\r\u001b[K     |████████████████████████▎       | 2.0 MB 14.9 MB/s eta 0:00:01\r\u001b[K     |████████████████████████▍       | 2.0 MB 14.9 MB/s eta 0:00:01\r\u001b[K     |████████████████████████▌       | 2.0 MB 14.9 MB/s eta 0:00:01\r\u001b[K     |████████████████████████▋       | 2.0 MB 14.9 MB/s eta 0:00:01\r\u001b[K     |████████████████████████▉       | 2.0 MB 14.9 MB/s eta 0:00:01\r\u001b[K     |█████████████████████████       | 2.0 MB 14.9 MB/s eta 0:00:01\r\u001b[K     |█████████████████████████       | 2.0 MB 14.9 MB/s eta 0:00:01\r\u001b[K     |█████████████████████████▏      | 2.0 MB 14.9 MB/s eta 0:00:01\r\u001b[K     |█████████████████████████▎      | 2.0 MB 14.9 MB/s eta 0:00:01\r\u001b[K     |█████████████████████████▍      | 2.1 MB 14.9 MB/s eta 0:00:01\r\u001b[K     |█████████████████████████▌      | 2.1 MB 14.9 MB/s eta 0:00:01\r\u001b[K     |█████████████████████████▊      | 2.1 MB 14.9 MB/s eta 0:00:01\r\u001b[K     |█████████████████████████▉      | 2.1 MB 14.9 MB/s eta 0:00:01\r\u001b[K     |██████████████████████████      | 2.1 MB 14.9 MB/s eta 0:00:01\r\u001b[K     |██████████████████████████      | 2.1 MB 14.9 MB/s eta 0:00:01\r\u001b[K     |██████████████████████████▏     | 2.1 MB 14.9 MB/s eta 0:00:01\r\u001b[K     |██████████████████████████▎     | 2.1 MB 14.9 MB/s eta 0:00:01\r\u001b[K     |██████████████████████████▍     | 2.1 MB 14.9 MB/s eta 0:00:01\r\u001b[K     |██████████████████████████▌     | 2.2 MB 14.9 MB/s eta 0:00:01\r\u001b[K     |██████████████████████████▊     | 2.2 MB 14.9 MB/s eta 0:00:01\r\u001b[K     |██████████████████████████▉     | 2.2 MB 14.9 MB/s eta 0:00:01\r\u001b[K     |███████████████████████████     | 2.2 MB 14.9 MB/s eta 0:00:01\r\u001b[K     |███████████████████████████     | 2.2 MB 14.9 MB/s eta 0:00:01\r\u001b[K     |███████████████████████████▏    | 2.2 MB 14.9 MB/s eta 0:00:01\r\u001b[K     |███████████████████████████▎    | 2.2 MB 14.9 MB/s eta 0:00:01\r\u001b[K     |███████████████████████████▍    | 2.2 MB 14.9 MB/s eta 0:00:01\r\u001b[K     |███████████████████████████▋    | 2.2 MB 14.9 MB/s eta 0:00:01\r\u001b[K     |███████████████████████████▊    | 2.2 MB 14.9 MB/s eta 0:00:01\r\u001b[K     |███████████████████████████▉    | 2.3 MB 14.9 MB/s eta 0:00:01\r\u001b[K     |████████████████████████████    | 2.3 MB 14.9 MB/s eta 0:00:01\r\u001b[K     |████████████████████████████    | 2.3 MB 14.9 MB/s eta 0:00:01\r\u001b[K     |████████████████████████████▏   | 2.3 MB 14.9 MB/s eta 0:00:01\r\u001b[K     |████████████████████████████▎   | 2.3 MB 14.9 MB/s eta 0:00:01\r\u001b[K     |████████████████████████████▌   | 2.3 MB 14.9 MB/s eta 0:00:01\r\u001b[K     |████████████████████████████▋   | 2.3 MB 14.9 MB/s eta 0:00:01\r\u001b[K     |████████████████████████████▊   | 2.3 MB 14.9 MB/s eta 0:00:01\r\u001b[K     |████████████████████████████▉   | 2.3 MB 14.9 MB/s eta 0:00:01\r\u001b[K     |█████████████████████████████   | 2.3 MB 14.9 MB/s eta 0:00:01\r\u001b[K     |█████████████████████████████   | 2.4 MB 14.9 MB/s eta 0:00:01\r\u001b[K     |█████████████████████████████▏  | 2.4 MB 14.9 MB/s eta 0:00:01\r\u001b[K     |█████████████████████████████▍  | 2.4 MB 14.9 MB/s eta 0:00:01\r\u001b[K     |█████████████████████████████▌  | 2.4 MB 14.9 MB/s eta 0:00:01\r\u001b[K     |█████████████████████████████▋  | 2.4 MB 14.9 MB/s eta 0:00:01\r\u001b[K     |█████████████████████████████▊  | 2.4 MB 14.9 MB/s eta 0:00:01\r\u001b[K     |█████████████████████████████▉  | 2.4 MB 14.9 MB/s eta 0:00:01\r\u001b[K     |██████████████████████████████  | 2.4 MB 14.9 MB/s eta 0:00:01\r\u001b[K     |██████████████████████████████  | 2.4 MB 14.9 MB/s eta 0:00:01\r\u001b[K     |██████████████████████████████▏ | 2.4 MB 14.9 MB/s eta 0:00:01\r\u001b[K     |██████████████████████████████▍ | 2.5 MB 14.9 MB/s eta 0:00:01\r\u001b[K     |██████████████████████████████▌ | 2.5 MB 14.9 MB/s eta 0:00:01\r\u001b[K     |██████████████████████████████▋ | 2.5 MB 14.9 MB/s eta 0:00:01\r\u001b[K     |██████████████████████████████▊ | 2.5 MB 14.9 MB/s eta 0:00:01\r\u001b[K     |██████████████████████████████▉ | 2.5 MB 14.9 MB/s eta 0:00:01\r\u001b[K     |███████████████████████████████ | 2.5 MB 14.9 MB/s eta 0:00:01\r\u001b[K     |███████████████████████████████ | 2.5 MB 14.9 MB/s eta 0:00:01\r\u001b[K     |███████████████████████████████▎| 2.5 MB 14.9 MB/s eta 0:00:01\r\u001b[K     |███████████████████████████████▍| 2.5 MB 14.9 MB/s eta 0:00:01\r\u001b[K     |███████████████████████████████▌| 2.5 MB 14.9 MB/s eta 0:00:01\r\u001b[K     |███████████████████████████████▋| 2.6 MB 14.9 MB/s eta 0:00:01\r\u001b[K     |███████████████████████████████▊| 2.6 MB 14.9 MB/s eta 0:00:01\r\u001b[K     |███████████████████████████████▉| 2.6 MB 14.9 MB/s eta 0:00:01\r\u001b[K     |████████████████████████████████| 2.6 MB 14.9 MB/s eta 0:00:01\r\u001b[K     |████████████████████████████████| 2.6 MB 14.9 MB/s \n",
            "\u001b[?25hRequirement already satisfied: filelock in /usr/local/lib/python3.7/dist-packages (from transformers) (3.0.12)\n",
            "Requirement already satisfied: regex!=2019.12.17 in /usr/local/lib/python3.7/dist-packages (from transformers) (2019.12.20)\n",
            "Requirement already satisfied: requests in /usr/local/lib/python3.7/dist-packages (from transformers) (2.23.0)\n",
            "Collecting pyyaml>=5.1\n",
            "  Downloading PyYAML-5.4.1-cp37-cp37m-manylinux1_x86_64.whl (636 kB)\n",
            "\u001b[K     |████████████████████████████████| 636 kB 48.2 MB/s \n",
            "\u001b[?25hCollecting tokenizers<0.11,>=0.10.1\n",
            "  Downloading tokenizers-0.10.3-cp37-cp37m-manylinux_2_5_x86_64.manylinux1_x86_64.manylinux_2_12_x86_64.manylinux2010_x86_64.whl (3.3 MB)\n",
            "\u001b[K     |████████████████████████████████| 3.3 MB 32.4 MB/s \n",
            "\u001b[?25hRequirement already satisfied: tqdm>=4.27 in /usr/local/lib/python3.7/dist-packages (from transformers) (4.62.0)\n",
            "Requirement already satisfied: importlib-metadata in /usr/local/lib/python3.7/dist-packages (from transformers) (4.6.4)\n",
            "Collecting huggingface-hub==0.0.12\n",
            "  Downloading huggingface_hub-0.0.12-py3-none-any.whl (37 kB)\n",
            "Collecting sacremoses\n",
            "  Downloading sacremoses-0.0.45-py3-none-any.whl (895 kB)\n",
            "\u001b[K     |████████████████████████████████| 895 kB 32.2 MB/s \n",
            "\u001b[?25hRequirement already satisfied: numpy>=1.17 in /usr/local/lib/python3.7/dist-packages (from transformers) (1.19.5)\n",
            "Requirement already satisfied: packaging in /usr/local/lib/python3.7/dist-packages (from transformers) (21.0)\n",
            "Requirement already satisfied: typing-extensions in /usr/local/lib/python3.7/dist-packages (from huggingface-hub==0.0.12->transformers) (3.7.4.3)\n",
            "Requirement already satisfied: pyparsing>=2.0.2 in /usr/local/lib/python3.7/dist-packages (from packaging->transformers) (2.4.7)\n",
            "Requirement already satisfied: zipp>=0.5 in /usr/local/lib/python3.7/dist-packages (from importlib-metadata->transformers) (3.5.0)\n",
            "Requirement already satisfied: certifi>=2017.4.17 in /usr/local/lib/python3.7/dist-packages (from requests->transformers) (2021.5.30)\n",
            "Requirement already satisfied: idna<3,>=2.5 in /usr/local/lib/python3.7/dist-packages (from requests->transformers) (2.10)\n",
            "Requirement already satisfied: urllib3!=1.25.0,!=1.25.1,<1.26,>=1.21.1 in /usr/local/lib/python3.7/dist-packages (from requests->transformers) (1.24.3)\n",
            "Requirement already satisfied: chardet<4,>=3.0.2 in /usr/local/lib/python3.7/dist-packages (from requests->transformers) (3.0.4)\n",
            "Requirement already satisfied: joblib in /usr/local/lib/python3.7/dist-packages (from sacremoses->transformers) (1.0.1)\n",
            "Requirement already satisfied: six in /usr/local/lib/python3.7/dist-packages (from sacremoses->transformers) (1.15.0)\n",
            "Requirement already satisfied: click in /usr/local/lib/python3.7/dist-packages (from sacremoses->transformers) (7.1.2)\n",
            "Installing collected packages: tokenizers, sacremoses, pyyaml, huggingface-hub, transformers\n",
            "  Attempting uninstall: pyyaml\n",
            "    Found existing installation: PyYAML 3.13\n",
            "    Uninstalling PyYAML-3.13:\n",
            "      Successfully uninstalled PyYAML-3.13\n",
            "  Attempting uninstall: huggingface-hub\n",
            "    Found existing installation: huggingface-hub 0.0.15\n",
            "    Uninstalling huggingface-hub-0.0.15:\n",
            "      Successfully uninstalled huggingface-hub-0.0.15\n",
            "Successfully installed huggingface-hub-0.0.12 pyyaml-5.4.1 sacremoses-0.0.45 tokenizers-0.10.3 transformers-4.9.2\n"
          ],
          "name": "stdout"
        }
      ]
    },
    {
      "cell_type": "code",
      "metadata": {
        "id": "DLq3eg5REpuX"
      },
      "source": [
        "from transformers import AutoTokenizer"
      ],
      "execution_count": null,
      "outputs": []
    },
    {
      "cell_type": "code",
      "metadata": {
        "colab": {
          "base_uri": "https://localhost:8080/",
          "height": 145,
          "referenced_widgets": [
            "1518f5d16b5f463794b03f4437008aeb",
            "66eb919a4870433facbe203a625ce038",
            "85b52c44b21b49f382918e215278840c",
            "6bfcd66a18fe41b7b4c0e144a07950cf",
            "35cf764756114bdf92a8b250c7a199ba",
            "95d6afe44ea8452fba5799772c9703ef",
            "9fda771a1d274a818c06e952a71cc455",
            "3c456d95bf214183b7357a0d9f2ef21b",
            "a9a3ac13b3b04ecf988445c6b82b71fe",
            "45a001d1f18f41c5a22330a3fe6be285",
            "e8b1ddc2eb434240a8bc052e1ebe3f44",
            "53f88ebacd33436abfd1d752e9cb1b9b",
            "acf1ede2b9b441ea86d1b3a255f218c4",
            "6a3f7ba17b164b31af7c8e6084654207",
            "788fb365bf3d46c581d18e5aea5f16c1",
            "bfa500f100314e28b307586b550214db",
            "418bf3cd25fc475e881713450c814407",
            "bbf075b8d4714ca2861ab4bee7965a95",
            "bc3efd39233a41e29a7fbbade55908de",
            "8df7fd7fb37946ebb036c135ba2aaa41",
            "a868b11cbe914e5997f9438d815689a1",
            "bf5a3b12ead94c668fc193442d19adf0",
            "28d1898f6ee84f4e8f21f0dfffc8c19c",
            "13d21d506cdb4fc799fa733cfa9aaf02",
            "fc98a405e6bb4b39bb65e369ca08bfa4",
            "e7c6df586fd848efbb3bb842de14be14",
            "42aa6f2a441d4bf49212e363b9289631",
            "8408dab1b41243beb01dbe3fab148106",
            "c1429488375a48efaf9f5bfbf0bf7c73",
            "5ca552dbc2a141638ac84b924114593d",
            "aa770a174bde41109e7cd13bbbbb11ef",
            "548687e81d944ced8ca31ad0860c90ec",
            "8b355ebe92a143db92a841f576fc4da6",
            "7a1f3d7bedcf4b3186d4a55c1dcb40c7",
            "f97109d4f3e940e8b5f2e73bc18e0c73",
            "f26a7f887a7349c89f1cf7486017bc9b",
            "67e15e2a69414b2aad9a5a32402a672c",
            "fc9435567cee4dd88ac09763c25511a7",
            "ed33a9e70159410198caceca3b4d52e5",
            "f7a8f7f0e67c409aaac27eadfc6cf034",
            "a0b2df0e591d44c49272db7b6446d863",
            "7426a2562ad14833a861feae50704105",
            "4fe7bfa670ca4f678add0218f46af37d",
            "e2eda584df2a47c8a4ac001a47dec038"
          ]
        },
        "id": "5LvnflZMEsCe",
        "outputId": "bb55b75a-5503-47e6-9c03-df36a1eae250"
      },
      "source": [
        "tokenizer = AutoTokenizer.from_pretrained(\"bert-base-cased\")"
      ],
      "execution_count": null,
      "outputs": [
        {
          "output_type": "display_data",
          "data": {
            "application/vnd.jupyter.widget-view+json": {
              "model_id": "1518f5d16b5f463794b03f4437008aeb",
              "version_minor": 0,
              "version_major": 2
            },
            "text/plain": [
              "Downloading:   0%|          | 0.00/29.0 [00:00<?, ?B/s]"
            ]
          },
          "metadata": {}
        },
        {
          "output_type": "display_data",
          "data": {
            "application/vnd.jupyter.widget-view+json": {
              "model_id": "53f88ebacd33436abfd1d752e9cb1b9b",
              "version_minor": 0,
              "version_major": 2
            },
            "text/plain": [
              "Downloading:   0%|          | 0.00/570 [00:00<?, ?B/s]"
            ]
          },
          "metadata": {}
        },
        {
          "output_type": "display_data",
          "data": {
            "application/vnd.jupyter.widget-view+json": {
              "model_id": "28d1898f6ee84f4e8f21f0dfffc8c19c",
              "version_minor": 0,
              "version_major": 2
            },
            "text/plain": [
              "Downloading:   0%|          | 0.00/213k [00:00<?, ?B/s]"
            ]
          },
          "metadata": {}
        },
        {
          "output_type": "display_data",
          "data": {
            "application/vnd.jupyter.widget-view+json": {
              "model_id": "7a1f3d7bedcf4b3186d4a55c1dcb40c7",
              "version_minor": 0,
              "version_major": 2
            },
            "text/plain": [
              "Downloading:   0%|          | 0.00/436k [00:00<?, ?B/s]"
            ]
          },
          "metadata": {}
        }
      ]
    },
    {
      "cell_type": "code",
      "metadata": {
        "id": "GztuHPsUEuZA"
      },
      "source": [
        "def tokenize_function(examples):\n",
        "    return tokenizer(examples[\"text\"], padding=\"max_length\", truncation=True)"
      ],
      "execution_count": null,
      "outputs": []
    },
    {
      "cell_type": "code",
      "metadata": {
        "colab": {
          "base_uri": "https://localhost:8080/",
          "height": 81,
          "referenced_widgets": [
            "dda84714a7df4c30b860d4fbecefa7ef",
            "061173bef3f74b7b9018424a7d225d15",
            "8b3a5fb3cc6b421c981cac3b31828fac",
            "82e14da410e44ca1b73dbf40448bf3b9",
            "6b7389e4385846229b5b7d614366b0dd",
            "85df081dfd5546bfac3b632ea26bdcd6",
            "ca6330dd22844cd5b467d9572ee9ebe7",
            "8d3721638f2b4e429fb6a28c05703ee5",
            "dd8530c5e7f741cb96eca92fa0328f37",
            "d75a5fc5c0cf4d8bae68b11941bec445",
            "f2879e2400914775bec021293d3138dc",
            "5ade255821e4496698bb0c984f424c7a",
            "df376a6da57b4cfeb87fc6e2b0d50dd4",
            "9ee64ebcaba6482bbe826856bfb64c5c",
            "2b443a19cc7d48048241ee67a6d0a3b8",
            "69e60c343f594dbab84212a15439203b",
            "47058ca113c54173b96b9e642f3b24e5",
            "99f8756722df4b0e90aa51743b0c361c",
            "a25a666e9b7549b1aa5eef360a4bb970",
            "70dab42ba73e4a47b24a2f2c081ddec7",
            "bfddd21e28f14e0ab029d0027f1f84b1",
            "a448dc4029094032b8fd1880990eec0e"
          ]
        },
        "id": "QhfraTZ6ExfZ",
        "outputId": "782e77bd-658a-4b81-f29f-015857b0d78b"
      },
      "source": [
        "tokenized_datasets = dataset.map(tokenize_function, batched=True)"
      ],
      "execution_count": null,
      "outputs": [
        {
          "output_type": "display_data",
          "data": {
            "application/vnd.jupyter.widget-view+json": {
              "model_id": "dda84714a7df4c30b860d4fbecefa7ef",
              "version_minor": 0,
              "version_major": 2
            },
            "text/plain": [
              "  0%|          | 0/2 [00:00<?, ?ba/s]"
            ]
          },
          "metadata": {}
        },
        {
          "output_type": "display_data",
          "data": {
            "application/vnd.jupyter.widget-view+json": {
              "model_id": "5ade255821e4496698bb0c984f424c7a",
              "version_minor": 0,
              "version_major": 2
            },
            "text/plain": [
              "  0%|          | 0/1 [00:00<?, ?ba/s]"
            ]
          },
          "metadata": {}
        }
      ]
    },
    {
      "cell_type": "code",
      "metadata": {
        "colab": {
          "base_uri": "https://localhost:8080/"
        },
        "id": "3iluUQYAEzWH",
        "outputId": "eae66eb2-b784-42db-89f4-925ed87b388e"
      },
      "source": [
        "import torch\n",
        "print(torch.__version__)"
      ],
      "execution_count": null,
      "outputs": [
        {
          "output_type": "stream",
          "text": [
            "1.9.0+cu102\n"
          ],
          "name": "stdout"
        }
      ]
    },
    {
      "cell_type": "code",
      "metadata": {
        "id": "_H6VmsahE2Ry"
      },
      "source": [
        "from transformers import AutoModelForSequenceClassification"
      ],
      "execution_count": null,
      "outputs": []
    },
    {
      "cell_type": "code",
      "metadata": {
        "colab": {
          "base_uri": "https://localhost:8080/",
          "height": 156,
          "referenced_widgets": [
            "07076b43ff2d421180d8a26391e301b3",
            "2ed463f8bd5e4ee6a50b8be75839cee6",
            "86c2505d0d9148c9af257f32106be506",
            "5231500ae48b49eeab4203b1091468ea",
            "b610b6b4767d4001935a92229d0465a9",
            "b1e41a800b484979ae3fda4e30553edf",
            "9810558bf2d94c01bd65ee5dc2a0d6ab",
            "0f387d295a9e4be6b631972ba4027735",
            "1d6a4f044e3c4dcf9416c6ff796742d1",
            "6ead1550f49a4eb08cd533ba8ed89e33",
            "9becd0b13ecf468d890fdc0a6b2bc3b6"
          ]
        },
        "id": "5GbdhOxjE4z8",
        "outputId": "7b7fe914-5e08-4eed-c9df-95d710c61d82"
      },
      "source": [
        "model = AutoModelForSequenceClassification.from_pretrained(\"bert-base-cased\", num_labels=10)"
      ],
      "execution_count": null,
      "outputs": [
        {
          "output_type": "display_data",
          "data": {
            "application/vnd.jupyter.widget-view+json": {
              "model_id": "07076b43ff2d421180d8a26391e301b3",
              "version_minor": 0,
              "version_major": 2
            },
            "text/plain": [
              "Downloading:   0%|          | 0.00/436M [00:00<?, ?B/s]"
            ]
          },
          "metadata": {}
        },
        {
          "output_type": "stream",
          "text": [
            "Some weights of the model checkpoint at bert-base-cased were not used when initializing BertForSequenceClassification: ['cls.predictions.bias', 'cls.predictions.transform.LayerNorm.bias', 'cls.predictions.transform.LayerNorm.weight', 'cls.seq_relationship.bias', 'cls.seq_relationship.weight', 'cls.predictions.decoder.weight', 'cls.predictions.transform.dense.bias', 'cls.predictions.transform.dense.weight']\n",
            "- This IS expected if you are initializing BertForSequenceClassification from the checkpoint of a model trained on another task or with another architecture (e.g. initializing a BertForSequenceClassification model from a BertForPreTraining model).\n",
            "- This IS NOT expected if you are initializing BertForSequenceClassification from the checkpoint of a model that you expect to be exactly identical (initializing a BertForSequenceClassification model from a BertForSequenceClassification model).\n",
            "Some weights of BertForSequenceClassification were not initialized from the model checkpoint at bert-base-cased and are newly initialized: ['classifier.bias', 'classifier.weight']\n",
            "You should probably TRAIN this model on a down-stream task to be able to use it for predictions and inference.\n"
          ],
          "name": "stderr"
        }
      ]
    },
    {
      "cell_type": "code",
      "metadata": {
        "id": "CncCWcKeE9KO"
      },
      "source": [
        "from transformers import TrainingArguments"
      ],
      "execution_count": null,
      "outputs": []
    },
    {
      "cell_type": "code",
      "metadata": {
        "id": "nAic42zYFBTV"
      },
      "source": [
        "training_args = TrainingArguments(\"test_trainer\")"
      ],
      "execution_count": null,
      "outputs": []
    },
    {
      "cell_type": "code",
      "metadata": {
        "id": "iG53zQYzFCrH"
      },
      "source": [
        "from transformers import Trainer\n",
        "trainer = Trainer(\n",
        "    model=model, args=training_args, train_dataset=tokenized_datasets['train'], eval_dataset=tokenized_datasets['test']\n",
        ")"
      ],
      "execution_count": null,
      "outputs": []
    },
    {
      "cell_type": "code",
      "metadata": {
        "colab": {
          "base_uri": "https://localhost:8080/"
        },
        "id": "jf0CPxEdFG4f",
        "outputId": "ef284b5e-8b44-4fe8-bb77-aeeea20ba0e9"
      },
      "source": [
        "dataset[\"train\"][0]"
      ],
      "execution_count": null,
      "outputs": [
        {
          "output_type": "execute_result",
          "data": {
            "text/plain": [
              "{'code': 'sum(d * 10 ** i for i, d in enumerate(x[::-1]))',\n",
              " 'label': 0,\n",
              " 'text': \"Concatenate elements of a list 'x' of multiple integers to a single integer\"}"
            ]
          },
          "metadata": {},
          "execution_count": 16
        }
      ]
    },
    {
      "cell_type": "code",
      "metadata": {
        "colab": {
          "base_uri": "https://localhost:8080/",
          "height": 338
        },
        "id": "jQSQ5nbuFC1M",
        "outputId": "4400e143-8812-400f-d3ec-844a04aaad72"
      },
      "source": [
        "trainer.train()"
      ],
      "execution_count": null,
      "outputs": [
        {
          "output_type": "stream",
          "text": [
            "The following columns in the training set  don't have a corresponding argument in `BertForSequenceClassification.forward` and have been ignored: text, code.\n",
            "***** Running training *****\n",
            "  Num examples = 1283\n",
            "  Num Epochs = 3\n",
            "  Instantaneous batch size per device = 8\n",
            "  Total train batch size (w. parallel, distributed & accumulation) = 8\n",
            "  Gradient Accumulation steps = 1\n",
            "  Total optimization steps = 483\n"
          ],
          "name": "stderr"
        },
        {
          "output_type": "display_data",
          "data": {
            "text/html": [
              "\n",
              "    <div>\n",
              "      \n",
              "      <progress value='483' max='483' style='width:300px; height:20px; vertical-align: middle;'></progress>\n",
              "      [483/483 4:07:37, Epoch 3/3]\n",
              "    </div>\n",
              "    <table border=\"1\" class=\"dataframe\">\n",
              "  <thead>\n",
              "    <tr style=\"text-align: left;\">\n",
              "      <th>Step</th>\n",
              "      <th>Training Loss</th>\n",
              "    </tr>\n",
              "  </thead>\n",
              "  <tbody>\n",
              "  </tbody>\n",
              "</table><p>"
            ],
            "text/plain": [
              "<IPython.core.display.HTML object>"
            ]
          },
          "metadata": {}
        },
        {
          "output_type": "stream",
          "text": [
            "\n",
            "\n",
            "Training completed. Do not forget to share your model on huggingface.co/models =)\n",
            "\n",
            "\n"
          ],
          "name": "stderr"
        },
        {
          "output_type": "execute_result",
          "data": {
            "text/plain": [
              "TrainOutput(global_step=483, training_loss=0.746808670075537, metrics={'train_runtime': 14892.2811, 'train_samples_per_second': 0.258, 'train_steps_per_second': 0.032, 'total_flos': 1012787194116096.0, 'train_loss': 0.746808670075537, 'epoch': 3.0})"
            ]
          },
          "metadata": {},
          "execution_count": 17
        }
      ]
    },
    {
      "cell_type": "code",
      "metadata": {
        "id": "NX5YUSzV_feK"
      },
      "source": [
        "import numpy as np"
      ],
      "execution_count": null,
      "outputs": []
    },
    {
      "cell_type": "code",
      "metadata": {
        "id": "hEvxwfDN_kga"
      },
      "source": [
        "from datasets import load_metric"
      ],
      "execution_count": null,
      "outputs": []
    },
    {
      "cell_type": "code",
      "metadata": {
        "colab": {
          "base_uri": "https://localhost:8080/",
          "height": 49,
          "referenced_widgets": [
            "9b805a619d8b454197bff7195be76502",
            "43645a7176734bdfac43b1a8af07df13",
            "de471c8c5f744134966b01879e79004f",
            "2407e590172a443b8533b0c0a649d1f8",
            "c4e6312217ea4633a3a4e544f3aac0c8",
            "5099f05efe4e4b54afff236424ef4660",
            "a89c1bbabaec4065bee219f8cd30a824",
            "a81a62420ebf4672b487d8aa6b7b4c7f",
            "f63817cd8e9c495991c2181fed9cd7c4",
            "28c6873346eb49bdb1f3e65b4c7c217e",
            "bd149e7925fc462fb3ab0a2490a95e7a"
          ]
        },
        "id": "DdDxl-kJ_o13",
        "outputId": "d26e7699-69ca-41a2-c42a-53e992ac46ea"
      },
      "source": [
        "metric = load_metric(\"accuracy\")"
      ],
      "execution_count": null,
      "outputs": [
        {
          "output_type": "display_data",
          "data": {
            "application/vnd.jupyter.widget-view+json": {
              "model_id": "9b805a619d8b454197bff7195be76502",
              "version_minor": 0,
              "version_major": 2
            },
            "text/plain": [
              "Downloading:   0%|          | 0.00/1.42k [00:00<?, ?B/s]"
            ]
          },
          "metadata": {}
        }
      ]
    },
    {
      "cell_type": "code",
      "metadata": {
        "id": "RPBKPUHq_tSL"
      },
      "source": [
        "def compute_metrics(eval_pred):\n",
        "    logits, labels = eval_pred\n",
        "    predictions = np.argmax(logits, axis=-1)\n",
        "    return metric.compute(predictions=predictions, references=labels)"
      ],
      "execution_count": null,
      "outputs": []
    },
    {
      "cell_type": "code",
      "metadata": {
        "colab": {
          "base_uri": "https://localhost:8080/",
          "height": 213
        },
        "id": "-MCv2LSn_v62",
        "outputId": "ed3d6184-929a-4949-9445-0437d2e9387a"
      },
      "source": [
        "trainer = Trainer(\n",
        "    model=model,\n",
        "    args=training_args,\n",
        "    train_dataset=tokenized_datasets['train'],\n",
        "    eval_dataset=tokenized_datasets['test'],\n",
        "    compute_metrics=compute_metrics,\n",
        ")\n",
        "trainer.evaluate()"
      ],
      "execution_count": null,
      "outputs": [
        {
          "output_type": "stream",
          "text": [
            "The following columns in the evaluation set  don't have a corresponding argument in `BertForSequenceClassification.forward` and have been ignored: text, code.\n",
            "***** Running Evaluation *****\n",
            "  Num examples = 254\n",
            "  Batch size = 8\n"
          ],
          "name": "stderr"
        },
        {
          "output_type": "display_data",
          "data": {
            "text/html": [
              "\n",
              "    <div>\n",
              "      \n",
              "      <progress value='32' max='32' style='width:300px; height:20px; vertical-align: middle;'></progress>\n",
              "      [32/32 05:03]\n",
              "    </div>\n",
              "    "
            ],
            "text/plain": [
              "<IPython.core.display.HTML object>"
            ]
          },
          "metadata": {}
        },
        {
          "output_type": "execute_result",
          "data": {
            "text/plain": [
              "{'eval_accuracy': 0.6732283464566929,\n",
              " 'eval_loss': 1.1609586477279663,\n",
              " 'eval_runtime': 313.3069,\n",
              " 'eval_samples_per_second': 0.811,\n",
              " 'eval_steps_per_second': 0.102}"
            ]
          },
          "metadata": {},
          "execution_count": 23
        }
      ]
    },
    {
      "cell_type": "code",
      "metadata": {
        "colab": {
          "base_uri": "https://localhost:8080/",
          "height": 543
        },
        "id": "AtO18N-YBGJ2",
        "outputId": "9c383272-6609-4194-b920-220510bc9e0e"
      },
      "source": [
        "trainer.predict(test_dataset=tokenized_datasets['test'])"
      ],
      "execution_count": null,
      "outputs": [
        {
          "output_type": "stream",
          "text": [
            "The following columns in the test set  don't have a corresponding argument in `BertForSequenceClassification.forward` and have been ignored: text, code.\n",
            "***** Running Prediction *****\n",
            "  Num examples = 254\n",
            "  Batch size = 8\n"
          ],
          "name": "stderr"
        },
        {
          "output_type": "display_data",
          "data": {
            "text/html": [
              "\n",
              "    <div>\n",
              "      \n",
              "      <progress value='64' max='32' style='width:300px; height:20px; vertical-align: middle;'></progress>\n",
              "      [32/32 10:47]\n",
              "    </div>\n",
              "    "
            ],
            "text/plain": [
              "<IPython.core.display.HTML object>"
            ]
          },
          "metadata": {}
        },
        {
          "output_type": "execute_result",
          "data": {
            "text/plain": [
              "PredictionOutput(predictions=array([[-0.57843506,  6.1279416 , -1.3433841 , ..., -0.63539344,\n",
              "        -0.9801806 ,  0.10528993],\n",
              "       [ 0.24672976, -1.034431  , -0.19538777, ..., -0.7233115 ,\n",
              "        -0.4024375 , -0.23333558],\n",
              "       [-0.1283288 ,  5.838603  , -1.2045842 , ..., -0.6747505 ,\n",
              "        -1.2686048 ,  0.13179058],\n",
              "       ...,\n",
              "       [ 0.13218477,  0.7628559 , -1.2738141 , ..., -0.43051133,\n",
              "        -0.5473717 , -1.3255746 ],\n",
              "       [-0.28684413, -0.59747416, -0.4356827 , ..., -0.45692596,\n",
              "        -0.5360513 , -1.7840028 ],\n",
              "       [ 3.8624833 , -1.3417376 , -0.7195095 , ..., -0.24384834,\n",
              "        -0.2681002 , -1.8424271 ]], dtype=float32), label_ids=array([1, 6, 1, 2, 2, 1, 9, 5, 5, 1, 1, 9, 0, 0, 5, 2, 5, 1, 0, 4, 1, 1,\n",
              "       5, 1, 1, 1, 1, 9, 0, 5, 1, 2, 2, 5, 5, 4, 4, 1, 1, 5, 5, 1, 5, 5,\n",
              "       5, 5, 1, 5, 9, 5, 1, 1, 5, 1, 5, 1, 1, 1, 0, 2, 5, 2, 0, 0, 0, 0,\n",
              "       4, 5, 1, 5, 7, 5, 5, 5, 1, 0, 5, 5, 2, 5, 5, 5, 5, 1, 1, 1, 1, 5,\n",
              "       5, 6, 5, 5, 5, 4, 4, 4, 1, 4, 5, 6, 5, 5, 5, 1, 1, 5, 5, 5, 0, 0,\n",
              "       5, 5, 2, 0, 2, 5, 1, 5, 0, 2, 6, 5, 1, 1, 5, 1, 4, 4, 4, 5, 1, 5,\n",
              "       5, 5, 0, 0, 0, 0, 0, 0, 0, 1, 5, 5, 7, 5, 5, 5, 7, 7, 5, 5, 2, 4,\n",
              "       4, 4, 1, 5, 5, 5, 5, 5, 5, 5, 5, 5, 5, 5, 2, 5, 2, 5, 6, 6, 6, 6,\n",
              "       6, 4, 4, 4, 4, 5, 1, 5, 5, 5, 5, 0, 5, 0, 0, 0, 0, 0, 0, 0, 1, 5,\n",
              "       5, 4, 4, 4, 4, 5, 4, 4, 8, 8, 8, 8, 8, 8, 0, 1, 1, 1, 5, 1, 1, 1,\n",
              "       1, 5, 0, 0, 5, 1, 1, 0, 5, 5, 5, 5, 5, 5, 5, 1, 5, 4, 0, 1, 7, 5,\n",
              "       5, 1, 8, 1, 5, 5, 4, 9, 5, 5, 5, 5]), metrics={'test_loss': 1.1609586477279663, 'test_accuracy': 0.6732283464566929, 'test_runtime': 313.3764, 'test_samples_per_second': 0.811, 'test_steps_per_second': 0.102})"
            ]
          },
          "metadata": {},
          "execution_count": 24
        }
      ]
    },
    {
      "cell_type": "code",
      "metadata": {
        "colab": {
          "base_uri": "https://localhost:8080/"
        },
        "id": "2YRBJetWBdwX",
        "outputId": "92943fa1-1e57-413d-c497-58bb199aa027"
      },
      "source": [
        "test_trainer = Trainer(model) "
      ],
      "execution_count": null,
      "outputs": [
        {
          "output_type": "stream",
          "text": [
            "No `TrainingArguments` passed, using `output_dir=tmp_trainer`.\n",
            "PyTorch: setting up devices\n",
            "The default value for the training argument `--report_to` will change in v5 (from all installed integrations to none). In v5, you will need to use `--report_to all` to get the same behavior as now. You should start updating your code and make this info disappear :-).\n"
          ],
          "name": "stderr"
        }
      ]
    },
    {
      "cell_type": "code",
      "metadata": {
        "colab": {
          "base_uri": "https://localhost:8080/",
          "height": 127
        },
        "id": "z82i3WD5CZ-9",
        "outputId": "3d7a7d5d-6792-42f8-a00d-4e261ac63de9"
      },
      "source": [
        "raw_pred, _, _ = test_trainer.predict(test_dataset=tokenized_datasets['test']) "
      ],
      "execution_count": null,
      "outputs": [
        {
          "output_type": "stream",
          "text": [
            "The following columns in the test set  don't have a corresponding argument in `BertForSequenceClassification.forward` and have been ignored: text, code.\n",
            "***** Running Prediction *****\n",
            "  Num examples = 254\n",
            "  Batch size = 8\n"
          ],
          "name": "stderr"
        },
        {
          "output_type": "display_data",
          "data": {
            "text/html": [
              "\n",
              "    <div>\n",
              "      \n",
              "      <progress value='32' max='32' style='width:300px; height:20px; vertical-align: middle;'></progress>\n",
              "      [32/32 05:03]\n",
              "    </div>\n",
              "    "
            ],
            "text/plain": [
              "<IPython.core.display.HTML object>"
            ]
          },
          "metadata": {}
        }
      ]
    },
    {
      "cell_type": "code",
      "metadata": {
        "colab": {
          "base_uri": "https://localhost:8080/"
        },
        "id": "PB-xzsD9DOeC",
        "outputId": "42fb2613-1dd7-4dcc-9a94-eb44106b1629"
      },
      "source": [
        "y_pred = np.argmax(raw_pred, axis=1)\n",
        "print(y_pred)"
      ],
      "execution_count": null,
      "outputs": [
        {
          "output_type": "stream",
          "text": [
            "[1 6 1 5 5 5 1 5 5 5 5 0 0 0 5 2 5 1 0 5 5 1 5 1 1 1 9 9 5 5 1 2 2 5 5 5 5\n",
            " 5 1 5 5 0 5 0 5 5 6 5 9 0 1 1 5 1 5 1 1 1 0 0 0 0 0 0 0 0 2 5 0 5 5 5 5 5\n",
            " 1 1 5 5 2 5 5 5 1 1 1 1 5 5 5 6 5 5 5 5 5 5 1 5 5 6 5 5 5 1 1 5 5 5 0 0 0\n",
            " 5 2 5 2 5 1 5 0 2 6 5 1 1 1 0 5 5 5 5 1 5 0 0 0 0 0 0 0 5 8 1 2 5 7 5 5 5\n",
            " 5 1 5 5 2 2 2 2 0 5 5 5 5 5 1 5 5 5 1 5 2 5 2 0 6 6 6 6 6 5 5 5 5 0 1 5 5\n",
            " 5 2 1 5 0 0 0 0 0 0 0 1 5 5 5 5 5 2 5 5 5 0 0 0 0 0 0 0 5 1 5 5 1 1 1 1 5\n",
            " 0 0 5 1 5 0 5 5 5 5 4 5 5 1 5 5 9 1 0 5 5 6 2 1 5 5 5 9 0 5 5 0]\n"
          ],
          "name": "stdout"
        }
      ]
    }
  ]
}